{
 "cells": [
  {
   "cell_type": "code",
   "execution_count": 8,
   "id": "8c279e99",
   "metadata": {},
   "outputs": [],
   "source": [
    "import google.generativeai as genai\n",
    "import os\n",
    "import fitz\n",
    "from langchain_core.output_parsers import JsonOutputParser\n",
    "from openai import OpenAI\n",
    "client = OpenAI()\n",
    "from typing import Optional"
   ]
  },
  {
   "cell_type": "code",
   "execution_count": 9,
   "id": "b3791430",
   "metadata": {},
   "outputs": [],
   "source": [
    "from graph_schema_reader import get_structured_output_model, extract_triplets"
   ]
  },
  {
   "cell_type": "code",
   "execution_count": 10,
   "id": "f1c9c304",
   "metadata": {},
   "outputs": [],
   "source": [
    "def initialize_gemini():\n",
    "    \"\"\"Initialize and configure Gemini API\"\"\"\n",
    "    os.environ[\"API_KEY\"] = getpass.getpass(prompt = 'Enter the Gemini API key')\n",
    "    genai.configure(api_key=os.environ[\"API_KEY\"])\n",
    "    return genai.GenerativeModel(model_name='gemini-1.5-pro')\n",
    "\n",
    "\n",
    "def extract_toc_from_pdf(model, pdf_path):\n",
    "    \"\"\"Extract contents from PDF using Gemini\"\"\"\n",
    "    sample_pdf = genai.upload_file(pdf_path)\n",
    "    response = model.generate_content([\"\"\" Extract the contents from the pdf document .Do not hallucinate.\n",
    "\"\"\", sample_pdf])\n",
    "    return response.text"
   ]
  },
  {
   "cell_type": "code",
   "execution_count": 5,
   "id": "2781e2f8",
   "metadata": {},
   "outputs": [
    {
     "name": "stdout",
     "output_type": "stream",
     "text": [
      "44\n"
     ]
    }
   ],
   "source": [
    "from langchain_community.document_loaders import PyPDFLoader\n",
    "\n",
    "def read_content_from_pdf(pdf_file_path):\n",
    "#     pdf_file_path = \"../leph101.pdf\"\n",
    "    loader = PyPDFLoader(file_path)\n",
    "    docs = loader.load()\n",
    "    print(len(docs))\n",
    "    content = ''\n",
    "    for doc in docs:\n",
    "        content += doc.page_content[0:]\n",
    "    return content"
   ]
  },
  {
   "cell_type": "code",
   "execution_count": null,
   "id": "13de5e87",
   "metadata": {},
   "outputs": [],
   "source": [
    "print(content)"
   ]
  },
  {
   "cell_type": "markdown",
   "id": "faa3ee41",
   "metadata": {},
   "source": [
    "### openai"
   ]
  },
  {
   "cell_type": "code",
   "execution_count": 11,
   "id": "64573235",
   "metadata": {},
   "outputs": [],
   "source": [
    "from langchain_openai import ChatOpenAI\n",
    "def get_llm():\n",
    "    llm = ChatOpenAI(model=\"gpt-4o-mini\", temperature=0)\n",
    "    return llm"
   ]
  },
  {
   "cell_type": "markdown",
   "id": "32362adc",
   "metadata": {},
   "source": [
    "### gemini"
   ]
  },
  {
   "cell_type": "code",
   "execution_count": null,
   "id": "93d4f1c3",
   "metadata": {},
   "outputs": [],
   "source": [
    "import getpass\n",
    "import os\n",
    "\n",
    "\n",
    "if \"GOOGLE_API_KEY\" not in os.environ:\n",
    "    os.environ[\"GOOGLE_API_KEY\"] = getpass.getpass(\"Enter your Google AI API key: \")\n",
    "    \n",
    "from langchain_google_genai import ChatGoogleGenerativeAI\n",
    "\n",
    "gemini_llm = ChatGoogleGenerativeAI(\n",
    "    model=\"gemini-1.5-pro\",\n",
    "    temperature=0\n",
    ")"
   ]
  },
  {
   "cell_type": "code",
   "execution_count": 13,
   "id": "2cc6c5cd",
   "metadata": {},
   "outputs": [
    {
     "name": "stdout",
     "output_type": "stream",
     "text": [
      "--------------------------------\n",
      "root concept ####### {'name': 'SECTION', 'description': 'A section of a book describing a broader topic', 'type': 'str', 'relation': 'one_to_many', 'contains': [{'name': 'SECTION_TITLE', 'description': 'The title of the section', 'type': 'str'}, {'name': 'SECTION_CONTENT', 'description': 'The content of the section', 'type': 'str'}], 'includes': [{'name': 'SUBSECTION', 'description': 'The list of subsections present in the section', 'type': 'str', 'relation': 'one_to_many', 'kg_relation': 'CONTAINS', 'contains': [{'name': 'SUBSECTION_TITLE', 'description': 'The title of the subsection', 'type': 'str'}, {'name': 'SUBSECTION_CONTENT', 'description': 'The content of the subsection', 'type': 'str'}]}, {'name': 'EXAMPLE', 'description': 'An example of the concept', 'type': 'str', 'relation': 'one_to_one', 'kg_relation': 'HAS', 'contains': [{'name': 'EXAMPLE_TITLE', 'description': 'The title of the example', 'type': 'str'}, {'name': 'EXAMPLE_CONTENT', 'description': 'The content of the example', 'type': 'str'}]}]}\n",
      "--------------------------------\n",
      "included concepts ******* {'name': 'SECTION', 'description': 'A section of a book describing a broader topic', 'type': 'str', 'relation': 'one_to_many', 'contains': [{'name': 'SECTION_TITLE', 'description': 'The title of the section', 'type': 'str'}, {'name': 'SECTION_CONTENT', 'description': 'The content of the section', 'type': 'str'}], 'includes': [{'name': 'SUBSECTION', 'description': 'The list of subsections present in the section', 'type': 'str', 'relation': 'one_to_many', 'kg_relation': 'CONTAINS', 'contains': [{'name': 'SUBSECTION_TITLE', 'description': 'The title of the subsection', 'type': 'str'}, {'name': 'SUBSECTION_CONTENT', 'description': 'The content of the subsection', 'type': 'str'}]}, {'name': 'EXAMPLE', 'description': 'An example of the concept', 'type': 'str', 'relation': 'one_to_one', 'kg_relation': 'HAS', 'contains': [{'name': 'EXAMPLE_TITLE', 'description': 'The title of the example', 'type': 'str'}, {'name': 'EXAMPLE_CONTENT', 'description': 'The content of the example', 'type': 'str'}]}]}\n",
      "child concept: {'name': 'SUBSECTION', 'description': 'The list of subsections present in the section', 'type': 'str', 'relation': 'one_to_many', 'kg_relation': 'CONTAINS', 'contains': [{'name': 'SUBSECTION_TITLE', 'description': 'The title of the subsection', 'type': 'str'}, {'name': 'SUBSECTION_CONTENT', 'description': 'The content of the subsection', 'type': 'str'}]}\n",
      "--------------------------------\n",
      "included CHILD concept ####### {'name': 'SUBSECTION', 'description': 'The list of subsections present in the section', 'type': 'str', 'relation': 'one_to_many', 'kg_relation': 'CONTAINS', 'contains': [{'name': 'SUBSECTION_TITLE', 'description': 'The title of the subsection', 'type': 'str'}, {'name': 'SUBSECTION_CONTENT', 'description': 'The content of the subsection', 'type': 'str'}]}\n",
      "--------------------------------\n",
      "@@@@@ fields in else ####### {'SUBSECTION_TITLE': ('str', FieldInfo(annotation=NoneType, required=True, description='The title of the subsection')), 'SUBSECTION_CONTENT': ('str', FieldInfo(annotation=NoneType, required=True, description='The content of the subsection'))}\n",
      "--------------------------------\n",
      "@@@@@ dynamic model in else ####### <class 'graph_schema_reader.SUBSECTION'>\n",
      "child concept: {'name': 'EXAMPLE', 'description': 'An example of the concept', 'type': 'str', 'relation': 'one_to_one', 'kg_relation': 'HAS', 'contains': [{'name': 'EXAMPLE_TITLE', 'description': 'The title of the example', 'type': 'str'}, {'name': 'EXAMPLE_CONTENT', 'description': 'The content of the example', 'type': 'str'}]}\n",
      "--------------------------------\n",
      "included CHILD concept ####### {'name': 'EXAMPLE', 'description': 'An example of the concept', 'type': 'str', 'relation': 'one_to_one', 'kg_relation': 'HAS', 'contains': [{'name': 'EXAMPLE_TITLE', 'description': 'The title of the example', 'type': 'str'}, {'name': 'EXAMPLE_CONTENT', 'description': 'The content of the example', 'type': 'str'}]}\n",
      "--------------------------------\n",
      "@@@@@ fields in else ####### {'EXAMPLE_TITLE': ('str', FieldInfo(annotation=NoneType, required=True, description='The title of the example')), 'EXAMPLE_CONTENT': ('str', FieldInfo(annotation=NoneType, required=True, description='The content of the example'))}\n",
      "--------------------------------\n",
      "@@@@@ dynamic model in else ####### <class 'graph_schema_reader.EXAMPLE'>\n",
      "fields ####### {'SUBSECTION': (typing.Optional[list[graph_schema_reader.SUBSECTION]], FieldInfo(annotation=NoneType, required=False, default=['NULL'], description='The list of subsections present in the section')), 'EXAMPLE': (<class 'graph_schema_reader.EXAMPLE'>, FieldInfo(annotation=NoneType, required=True, description='An example of the concept')), 'SECTION_TITLE': ('str', FieldInfo(annotation=NoneType, required=True, description='The title of the section')), 'SECTION_CONTENT': ('str', FieldInfo(annotation=NoneType, required=True, description='The content of the section'))}\n",
      "dyn model ####### <class 'graph_schema_reader.SECTION'>\n",
      "Leaf Concept:  {'SECTION': <class 'graph_schema_reader.SECTION'>}\n"
     ]
    }
   ],
   "source": [
    "structured_output_model = get_structured_output_model()"
   ]
  },
  {
   "cell_type": "code",
   "execution_count": 5,
   "id": "1a7e71ef",
   "metadata": {},
   "outputs": [
    {
     "name": "stdout",
     "output_type": "stream",
     "text": [
      "<class 'yamltest.SECTION'>\n"
     ]
    }
   ],
   "source": [
    "print(structured_output_model)"
   ]
  },
  {
   "cell_type": "code",
   "execution_count": 144,
   "id": "e317baea",
   "metadata": {},
   "outputs": [
    {
     "data": {
      "text/plain": [
       "'SECTION'"
      ]
     },
     "execution_count": 144,
     "metadata": {},
     "output_type": "execute_result"
    }
   ],
   "source": [
    "structured_output_model.__name__"
   ]
  },
  {
   "cell_type": "code",
   "execution_count": 6,
   "id": "fa007e60",
   "metadata": {},
   "outputs": [],
   "source": [
    "def extract_structured_output(content):\n",
    "    prompt = f\"\"\"\n",
    "              you are a helpful assistant good at extracting the contents discussed in the topic in a structured way.\n",
    "              \n",
    "              \n",
    "              topic: {content}\n",
    "              \"\"\"\n",
    "    model = ChatOpenAI(model=\"gpt-4o\", temperature=0)\n",
    "    structured_llm = model.with_structured_output(structured_output_model)\n",
    "#     structured_llm = model.with_structured_output(dyn_class)\n",
    "    response = structured_llm.invoke(prompt)\n",
    "    return response"
   ]
  },
  {
   "cell_type": "code",
   "execution_count": 14,
   "id": "1c93c47a",
   "metadata": {},
   "outputs": [
    {
     "data": {
      "text/plain": [
       "SECTION(SUBSECTION=[SUBSECTION(SUBSECTION_TITLE='Introduction', SUBSECTION_CONTENT='The chapter begins with everyday experiences of electric discharge, such as sparks or crackles when removing synthetic clothes, and explains these phenomena as the discharge of electric charges accumulated due to rubbing of insulating surfaces. The concept of static electricity and electrostatics, which deals with forces, fields, and potentials arising from static charges, is introduced.'), SUBSECTION(SUBSECTION_TITLE='Electric Charge', SUBSECTION_CONTENT='The discovery of electric charge is attributed to Thales of Miletus, who observed that amber rubbed with wool attracts light objects. The chapter explains the concept of electrification, where bodies acquire electric charge through rubbing, and introduces the idea of positive and negative charges as defined by Benjamin Franklin. The properties of electric charge, such as quantization, additivity, and conservation, are discussed.'), SUBSECTION(SUBSECTION_TITLE='Conductors and Insulators', SUBSECTION_CONTENT='Materials are classified as conductors or insulators based on their ability to allow the passage of electricity. Conductors, like metals, allow free movement of electric charges, while insulators, like plastic and wood, do not. The behavior of charges on conductors and insulators is explained.'), SUBSECTION(SUBSECTION_TITLE='Basic Properties of Electric Charge', SUBSECTION_CONTENT='The section elaborates on the properties of electric charge, including additivity, conservation, and quantization. It explains how charges add up like real numbers, the conservation of charge in isolated systems, and the quantization of charge as integral multiples of a basic unit of charge, e.'), SUBSECTION(SUBSECTION_TITLE=\"Coulomb's Law\", SUBSECTION_CONTENT=\"Coulomb's law describes the force between two point charges as proportional to the product of their charges and inversely proportional to the square of the distance between them. The law is explained with examples and its vector form is introduced.\"), SUBSECTION(SUBSECTION_TITLE='Electric Field', SUBSECTION_CONTENT='The concept of electric field is introduced as the force experienced by a unit positive charge placed in the field. The electric field due to a point charge and a system of charges is discussed, along with the principle of superposition. The physical significance of electric fields is also explained.'), SUBSECTION(SUBSECTION_TITLE='Electric Field Lines', SUBSECTION_CONTENT='Electric field lines are a visual representation of electric fields, indicating the direction and strength of the field. The properties of electric field lines, such as their continuity and inability to cross each other, are discussed.'), SUBSECTION(SUBSECTION_TITLE='Electric Flux', SUBSECTION_CONTENT='Electric flux is defined as the measure of the number of electric field lines passing through a surface. The concept is explained using the analogy of liquid flow through a surface, and the mathematical expression for electric flux is provided.'), SUBSECTION(SUBSECTION_TITLE='Electric Dipole', SUBSECTION_CONTENT='An electric dipole consists of two equal and opposite charges separated by a distance. The electric field due to a dipole and its behavior in a uniform external field are discussed. The concept of dipole moment and its significance are explained.'), SUBSECTION(SUBSECTION_TITLE=\"Applications of Gauss's Law\", SUBSECTION_CONTENT=\"Gauss's law relates the electric flux through a closed surface to the charge enclosed by the surface. The law is applied to calculate electric fields for symmetric charge distributions, such as an infinite line charge, an infinite plane sheet, and a uniformly charged spherical shell.\")], EXAMPLE=EXAMPLE(EXAMPLE_TITLE='Example 1.1', EXAMPLE_CONTENT='If 10^9 electrons move out of a body to another body every second, how much time is required to get a total charge of 1 C on the other body? Solution: In one second, 10^9 electrons move out of the body, giving a charge of 1.6 × 10^-10 C. To accumulate a charge of 1 C, it would take 6.25 × 10^9 seconds, or approximately 200 years.'), SECTION_TITLE='Electric Charges and Fields', SECTION_CONTENT=\"This chapter discusses the fundamental concepts of electric charges and fields, including the properties of electric charge, Coulomb's law, electric field, electric field lines, electric flux, electric dipole, and applications of Gauss's law.\")"
      ]
     },
     "execution_count": 14,
     "metadata": {},
     "output_type": "execute_result"
    }
   ],
   "source": [
    "# section_content = \"1.5 COULOMBS LAW Coulombs law is a quantitative statement about the force between two point charges. When the linear size of charged bodies are much smaller than the distance separating them, the size may be ignored and the charged bodies are treated as point charges. Coulomb measured the force between two point charges and found that it varied inversely as the square of the distance between the charges and was directly proportional to the product of the magnitude of the two charges and acted along the line joining the two charges. Thus, if two point charges q1 , q2 are separated by a distance r in vacuum, the magnitude of the force (F) between them is given by 1 2 2 q q F k r = (1.1) How did Coulomb arrive at this law from his experiments? Coulomb used a torsion balance for measuring the force between two charged metallic spheres. When the separation between two spheres is much larger than the radius of each sphere, the charged spheres may be regarded as point charges. However, the charges on the spheres were unknown, to begin with. How then could he discover a relation like Eq. (1.1)? Coulomb thought of the following simple way: Suppose the charge on a metallic sphere is q. If the sphere is put in contact with an identical uncharged sphere, the charge will spread over the two spheres. By symmetry, the charge on each sphere will be q/2. Repeating this process, we can get charges q/2, q/4, etc. Coulomb varied the distance for a fixed pair of charges and measured the force for different separations. He then varied the charges in pairs, keeping the distance fixed for each pair. Comparing forces for different pairs of charges at different distances, Coulomb arrived at the relation, Eq. (1.1). Coulomb’s law, a simple mathematical statement, was initially experimentally arrived at in the manner described above. While the original experiments established it at a macroscopic scale, it has also been established down to subatomic level (r ~ 10–10 m). Coulomb discovered his law without knowing the explicit magnitude of the charge. In fact, it is the other way round: Coulomb’s law can now be employed to furnish a definition for a unit of charge. In the relation, Eq. (1.1), k is so far arbitrary. We can choose any positive value of k. The choice of k determines the size of the unit of charge. In SI units, the value of k is about 9 × 109 Nm2 . The unit of charge that C2 results from this choice is called a coulomb which we defined earlier in Section 1.4. Putting this value of k in Eq. (1.1), we see that for q1 = q2 = 1 C, r = 1 m F = 9 × 109 N That is, 1 C is the charge that when placed at a distance of 1 m from another charge of the same magnitude in vacuum experiences an electrical force of repulsion of magnitude  A torsion balance is a sensitive device to measure force. It was also used later by Cavendish to measure the very feeble gravitational force between two objects, to verify Newton’s Law of Gravitation.  Implicit in this is the assumption of additivity of charges and conservation: two charges (q/2 each) add up to make a total charge q. 7 9 × 10º N. One coulomb is evidently too big a unit to be used. In practice, in electrostatics, one uses smaller units like 1 mC or 1 µC. The constant k in Eq. (1.1) is usually put as k = 1/4πε for later convenience, so that Coulombs law is written as 0 F = 1 4 πεο 91 92 r2 (1.2) ɛ is called the permittivity of free space. The value of & in SI units is Εο = 8.854 × 10-12 C2 N-1m-2 Since force is a vector, it is better to write Coulombs law in the vector notation. Let the position vectors of charges q₁ and q₂ be r₁ and r₂ respectively see Fig.1.3(a). We denote force on q₁ due to q₂ by F12 and force on q₂ due to q₁ by F21. The two point charges q₁ and q₂ have been numbered 1 and 2 for convenience and the vector leading from 1 to 2 is denoted by r21: r21 = r2 - 1 the vector leading from 2 to 1 is denoted by r12: r12 = -21 = 1 - 2 The magnitude of the vectors r21 and r12 is denoted by r21 and 12, respectively (r12 = r21). The direction of a vector is specified by a unit vector along the vector. To denote the direction from 1 to 2 (or from 2 to 1), we define unit vectors: f21 = r21 r21 , f12 = r12 r12 Coulombs force law between two point charges q₁ and q₂ located at r₁ and r₂, respectively is then expressed as F21 = 1 4πε 0 q1 92 r21 (1.3) Some remarks on Eq. (1.3) are relevant: • Equation (1.3) is valid for any sign of q₁ and q₂ whether positive or negative. If q₁ and q₂ are of the same sign (either both positive or both negative), F21 is along ŕ 21, which denotes repulsion, as it should be for like charges. If q₁ and q₂ are of opposite signs, F21 is along-r21(= 12), which denotes attraction, as expected for unlike charges. Thus, we do not have to write separate equations for the cases of like and unlike charges. Equation (1.3) takes care of both cases correctly Fig. 1.3(b). 8 • The force F12 on charge q1 due to charge q2, is obtained from Eq. (1.3), by simply interchanging 1 and 2, i.e., 1 F12 = 4 περ 0 q1 q2 r2 12 = -F21 12 Thus, Coulombs law agrees with the Newtons third law. • Coulombs law Eq. (1.3) gives the force between two charges q₁ and q₂ in vacuum. If the charges are placed in matter or the intervening space has matter, the situation gets complicated due to the presence of charged constituents of matter. We shall consider electrostatics in matter in the next chapter. PHYSICS Interactive animation on Coulombs law: http://webphysics.davidson.edu/physlet_resources/bu_semester2/menu_semester2.html EXAMPLE 1.3 9\"\n",
    "section_content = \"\"\"1.4 BASIC PROPERTIES OF ELECTRIC CHARGE\n",
    "We have seen that there are two types of charges, namely positive and negative and their effects tend to cancel each other. Here, we shall now describe some other properties of the electric charge.\n",
    "If the sizes of charged bodies are very small as compared to the distances between them, we treat them as point charges. All the charge content of the body is assumed to be concentrated at one point in space.\n",
    "1.4.1 Additivity of charges\n",
    "We have not as yet given a quantitative definition of a charge; we shall follow it up in the next section. We shall tentatively assume that this can be done and proceed. If a system contains two point charges q1 and q2, the total charge of the system is obtained simply by adding\n",
    "4\n",
    "algebraically q1 and q2 , i.e., charges add up like real numbers or they are scalars like the mass of a body. If a system contains n charges q1, q2,q3,...,qn,thenthetotalchargeofthesystemisq1 +q2 +q3 +...+qn . Charge has magnitude but no direction, similar to mass. However, there is one difference between mass and charge. Mass of a body is always positive whereas a charge can be either positive or negative. Proper signs have to be used while adding the charges in a system. For example, the total charge of a system containing five charges +1, +2, –3, +4 and –5, in some arbitrary unit, is (+1) + (+2) + (–3) + (+4) + (–5) = –1 in the same unit.\n",
    "1.4.2 Charge is conserved\n",
    "We have already hinted to the fact that when bodies are charged by rubbing, there is transfer of electrons from one body to the other; no new charges are either created or destroyed. A picture of particles of electric charge enables us to understand the idea of conservation of charge. When we rub two bodies, what one body gains in charge the other body loses. Within an isolated system consisting of many charged bodies, due to interactions among the bodies, charges may get redistributed but it is found that the total charge of the isolated system is always conserved. Conservation of charge has been established experimentally.\"\"\"\n",
    "# graph = extract_structured_output(section_content)\n",
    "graph = extract_structured_output(content)\n",
    "graph"
   ]
  },
  {
   "cell_type": "code",
   "execution_count": 18,
   "id": "e7178dc6",
   "metadata": {},
   "outputs": [
    {
     "data": {
      "text/plain": [
       "{'SUBSECTIONS': FieldInfo(annotation=Union[list[SUBSECTION], NoneType], required=False, default=['NULL'], description='The list of subsections present in the section'),\n",
       " 'EXAMPLE': FieldInfo(annotation=EXAMPLE, required=True, description='An example of the concept'),\n",
       " 'SECTION_TITLE': FieldInfo(annotation=str, required=True, description='The title of the section'),\n",
       " 'SECTION_CONTENT': FieldInfo(annotation=str, required=True, description='The content of the section')}"
      ]
     },
     "execution_count": 18,
     "metadata": {},
     "output_type": "execute_result"
    }
   ],
   "source": [
    "structured_output_model.model_fields"
   ]
  },
  {
   "cell_type": "code",
   "execution_count": 132,
   "id": "a50e0033",
   "metadata": {},
   "outputs": [
    {
     "name": "stdout",
     "output_type": "stream",
     "text": [
      "SUBSECTIONS\n",
      "EXAMPLE\n",
      "SECTION_TITLE\n",
      "SECTION_CONTENT\n"
     ]
    }
   ],
   "source": [
    "for k,v in structured_output_model.model_fields.items():\n",
    "    print(k)"
   ]
  },
  {
   "cell_type": "code",
   "execution_count": 44,
   "id": "edb4ec0e",
   "metadata": {},
   "outputs": [
    {
     "data": {
      "text/plain": [
       "{'SUBSECTIONS': typing.Optional[list[yamltest.SUBSECTION]],\n",
       " 'EXAMPLE': yamltest.EXAMPLE,\n",
       " 'SECTION_TITLE': str,\n",
       " 'SECTION_CONTENT': str}"
      ]
     },
     "execution_count": 44,
     "metadata": {},
     "output_type": "execute_result"
    }
   ],
   "source": [
    "import typing\n",
    "\n",
    "typing.get_type_hints(structured_output_model)"
   ]
  },
  {
   "cell_type": "code",
   "execution_count": 19,
   "id": "ea630ced",
   "metadata": {},
   "outputs": [],
   "source": [
    "from typing import get_origin,get_args,Union\n",
    "import inspect\n",
    "from pydantic import BaseModel\n",
    "import pydantic\n",
    "\n",
    "\n",
    "\n",
    "\n",
    "def getFieldDataType(field):\n",
    "    origin_type = get_origin(field.annotation)\n",
    "#     print(f\"origin_type is {origin_type}\")\n",
    "    if origin_type is Union:\n",
    "        annotation_args = get_args(field.annotation)\n",
    "        origin_annotation = get_origin(annotation_args[0])\n",
    "#         print(f\"origin_annotation is {origin_annotation}\")\n",
    "        if origin_annotation is list:\n",
    "            actual_field = get_args(annotation_args[0])[0]\n",
    "            print(actual_field)\n",
    "#             print(f\"is it class? {inspect.isclass(actual_field)}\")\n",
    "#             print(f\"is it pydantic class? {isinstance(actual_field,pydantic._internal._model_construction.ModelMetaclass)}\")\n",
    "            if isinstance(actual_field,pydantic._internal._model_construction.ModelMetaclass):\n",
    "                return actual_field\n",
    "            else:\n",
    "                return None\n",
    "        elif isinstance(origin_annotation,pydantic._internal._model_construction.ModelMetaclass):\n",
    "#             print(f\"its a Pydantic class:{origin_annotation}\")\n",
    "            return origin_annotation\n",
    "    elif origin_type is None:\n",
    "#         print(field.annotation)\n",
    "        if field.annotation is str or field.annotation is int or field.annotation is float:\n",
    "            return field.annotation\n",
    "        else:\n",
    "            field_type = type(field.annotation)\n",
    "#             print(f\"field type is {field_type}\")\n",
    "            if isinstance(field.annotation,pydantic._internal._model_construction.ModelMetaclass):\n",
    "#                 print(f\"Pydantic class:{field.annotation}\")\n",
    "                return field.annotation\n",
    "        \n",
    "    else:\n",
    "        return None\n",
    "         \n",
    "    \n",
    "\n",
    "\n",
    "\n",
    "# def create_graph(pydanticClass):\n",
    "#     fields = pydanticClass.model_fields\n",
    "#     print(fields)\n",
    "#     for k,v in fields.items():\n",
    "    \n",
    "#         print(f\"----------{k}-----------------\")        \n",
    "#         data_type = getFieldDataType(fields[k])\n",
    "#         isPydantic = isinstance(data_type,pydantic._internal._model_construction.ModelMetaclass)\n",
    "#         print(isPydantic)\n",
    "#         if isPydantic:\n",
    "#             create_graph(data_type)\n",
    "            \n",
    "        \n",
    "# create_graph(structured_output_model)   \n",
    "\n",
    "\n",
    "def getFieldTypeForClass(pydanticClass,attr):\n",
    "    fields = pydanticClass.model_fields\n",
    "#     print(fields)\n",
    "    field = fields[attr]\n",
    "    data_type = getFieldDataType(field)\n",
    "    return data_type\n",
    "\n",
    "    \n",
    "   "
   ]
  },
  {
   "cell_type": "code",
   "execution_count": 17,
   "id": "3ef569e0",
   "metadata": {},
   "outputs": [
    {
     "data": {
      "text/plain": [
       "{'SUBSECTION': [{'SUBSECTION_TITLE': 'Introduction',\n",
       "   'SUBSECTION_CONTENT': 'The chapter begins with everyday experiences of electric discharge, such as sparks or crackles when removing synthetic clothes, and explains these phenomena as the discharge of electric charges accumulated due to rubbing of insulating surfaces. The concept of static electricity and electrostatics, which deals with forces, fields, and potentials arising from static charges, is introduced.'},\n",
       "  {'SUBSECTION_TITLE': 'Electric Charge',\n",
       "   'SUBSECTION_CONTENT': 'The discovery of electric charge is attributed to Thales of Miletus, who observed that amber rubbed with wool attracts light objects. The chapter explains the concept of electrification, where bodies acquire electric charge through rubbing, and introduces the idea of positive and negative charges as defined by Benjamin Franklin. The properties of electric charge, such as quantization, additivity, and conservation, are discussed.'},\n",
       "  {'SUBSECTION_TITLE': 'Conductors and Insulators',\n",
       "   'SUBSECTION_CONTENT': 'Materials are classified as conductors or insulators based on their ability to allow the passage of electricity. Conductors, like metals, allow free movement of electric charges, while insulators, like plastic and wood, do not. The behavior of charges on conductors and insulators is explained.'},\n",
       "  {'SUBSECTION_TITLE': 'Basic Properties of Electric Charge',\n",
       "   'SUBSECTION_CONTENT': 'The section elaborates on the properties of electric charge, including additivity, conservation, and quantization. It explains how charges add up like real numbers, the conservation of charge in isolated systems, and the quantization of charge as integral multiples of a basic unit of charge, e.'},\n",
       "  {'SUBSECTION_TITLE': \"Coulomb's Law\",\n",
       "   'SUBSECTION_CONTENT': \"Coulomb's law describes the force between two point charges as proportional to the product of their charges and inversely proportional to the square of the distance between them. The law is explained with examples and its vector form is introduced.\"},\n",
       "  {'SUBSECTION_TITLE': 'Electric Field',\n",
       "   'SUBSECTION_CONTENT': 'The concept of electric field is introduced as the force experienced by a unit positive charge placed in the field. The electric field due to a point charge and a system of charges is discussed, along with the principle of superposition. The physical significance of electric fields is also explained.'},\n",
       "  {'SUBSECTION_TITLE': 'Electric Field Lines',\n",
       "   'SUBSECTION_CONTENT': 'Electric field lines are a visual representation of electric fields, indicating the direction and strength of the field. The properties of electric field lines, such as their continuity and inability to cross each other, are discussed.'},\n",
       "  {'SUBSECTION_TITLE': 'Electric Flux',\n",
       "   'SUBSECTION_CONTENT': 'Electric flux is defined as the measure of the number of electric field lines passing through a surface. The concept is explained using the analogy of liquid flow through a surface, and the mathematical expression for electric flux is provided.'},\n",
       "  {'SUBSECTION_TITLE': 'Electric Dipole',\n",
       "   'SUBSECTION_CONTENT': 'An electric dipole consists of two equal and opposite charges separated by a distance. The electric field due to a dipole and its behavior in a uniform external field are discussed. The concept of dipole moment and its significance are explained.'},\n",
       "  {'SUBSECTION_TITLE': \"Applications of Gauss's Law\",\n",
       "   'SUBSECTION_CONTENT': \"Gauss's law relates the electric flux through a closed surface to the charge enclosed by the surface. The law is applied to calculate electric fields for symmetric charge distributions, such as an infinite line charge, an infinite plane sheet, and a uniformly charged spherical shell.\"}],\n",
       " 'EXAMPLE': {'EXAMPLE_TITLE': 'Example 1.1',\n",
       "  'EXAMPLE_CONTENT': 'If 10^9 electrons move out of a body to another body every second, how much time is required to get a total charge of 1 C on the other body? Solution: In one second, 10^9 electrons move out of the body, giving a charge of 1.6 × 10^-10 C. To accumulate a charge of 1 C, it would take 6.25 × 10^9 seconds, or approximately 200 years.'},\n",
       " 'SECTION_TITLE': 'Electric Charges and Fields',\n",
       " 'SECTION_CONTENT': \"This chapter discusses the fundamental concepts of electric charges and fields, including the properties of electric charge, Coulomb's law, electric field, electric field lines, electric flux, electric dipole, and applications of Gauss's law.\"}"
      ]
     },
     "execution_count": 17,
     "metadata": {},
     "output_type": "execute_result"
    }
   ],
   "source": [
    "import json\n",
    "structured_output = json.loads(graph.model_dump_json())\n",
    "structured_output"
   ]
  },
  {
   "cell_type": "code",
   "execution_count": 173,
   "id": "c0ff1c9b",
   "metadata": {},
   "outputs": [
    {
     "data": {
      "text/plain": [
       "FieldInfo(annotation=Union[list[SUBSECTION], NoneType], required=False, default=['NULL'], description='The list of subsections present in the section')"
      ]
     },
     "execution_count": 173,
     "metadata": {},
     "output_type": "execute_result"
    }
   ],
   "source": [
    "structured_output_model.model_fields['SUBSECTIONS']"
   ]
  },
  {
   "cell_type": "code",
   "execution_count": 20,
   "id": "ea71982d",
   "metadata": {},
   "outputs": [
    {
     "name": "stdout",
     "output_type": "stream",
     "text": [
      "________________________________\n",
      "content processe for SECTION is {'SUBSECTION': [{'SUBSECTION_TITLE': 'Introduction', 'SUBSECTION_CONTENT': 'The chapter begins with everyday experiences of electric discharge, such as sparks or crackles when removing synthetic clothes, and explains these phenomena as the discharge of electric charges accumulated due to rubbing of insulating surfaces. The concept of static electricity and electrostatics, which deals with forces, fields, and potentials arising from static charges, is introduced.'}, {'SUBSECTION_TITLE': 'Electric Charge', 'SUBSECTION_CONTENT': 'The discovery of electric charge is attributed to Thales of Miletus, who observed that amber rubbed with wool attracts light objects. The chapter explains the concept of electrification, where bodies acquire electric charge through rubbing, and introduces the idea of positive and negative charges as defined by Benjamin Franklin. The properties of electric charge, such as quantization, additivity, and conservation, are discussed.'}, {'SUBSECTION_TITLE': 'Conductors and Insulators', 'SUBSECTION_CONTENT': 'Materials are classified as conductors or insulators based on their ability to allow the passage of electricity. Conductors, like metals, allow free movement of electric charges, while insulators, like plastic and wood, do not. The behavior of charges on conductors and insulators is explained.'}, {'SUBSECTION_TITLE': 'Basic Properties of Electric Charge', 'SUBSECTION_CONTENT': 'The section elaborates on the properties of electric charge, including additivity, conservation, and quantization. It explains how charges add up like real numbers, the conservation of charge in isolated systems, and the quantization of charge as integral multiples of a basic unit of charge, e.'}, {'SUBSECTION_TITLE': \"Coulomb's Law\", 'SUBSECTION_CONTENT': \"Coulomb's law describes the force between two point charges as proportional to the product of their charges and inversely proportional to the square of the distance between them. The law is explained with examples and its vector form is introduced.\"}, {'SUBSECTION_TITLE': 'Electric Field', 'SUBSECTION_CONTENT': 'The concept of electric field is introduced as the force experienced by a unit positive charge placed in the field. The electric field due to a point charge and a system of charges is discussed, along with the principle of superposition. The physical significance of electric fields is also explained.'}, {'SUBSECTION_TITLE': 'Electric Field Lines', 'SUBSECTION_CONTENT': 'Electric field lines are a visual representation of electric fields, indicating the direction and strength of the field. The properties of electric field lines, such as their continuity and inability to cross each other, are discussed.'}, {'SUBSECTION_TITLE': 'Electric Flux', 'SUBSECTION_CONTENT': 'Electric flux is defined as the measure of the number of electric field lines passing through a surface. The concept is explained using the analogy of liquid flow through a surface, and the mathematical expression for electric flux is provided.'}, {'SUBSECTION_TITLE': 'Electric Dipole', 'SUBSECTION_CONTENT': 'An electric dipole consists of two equal and opposite charges separated by a distance. The electric field due to a dipole and its behavior in a uniform external field are discussed. The concept of dipole moment and its significance are explained.'}, {'SUBSECTION_TITLE': \"Applications of Gauss's Law\", 'SUBSECTION_CONTENT': \"Gauss's law relates the electric flux through a closed surface to the charge enclosed by the surface. The law is applied to calculate electric fields for symmetric charge distributions, such as an infinite line charge, an infinite plane sheet, and a uniformly charged spherical shell.\"}], 'EXAMPLE': {'EXAMPLE_TITLE': 'Example 1.1', 'EXAMPLE_CONTENT': 'If 10^9 electrons move out of a body to another body every second, how much time is required to get a total charge of 1 C on the other body? Solution: In one second, 10^9 electrons move out of the body, giving a charge of 1.6 × 10^-10 C. To accumulate a charge of 1 C, it would take 6.25 × 10^9 seconds, or approximately 200 years.'}, 'SECTION_TITLE': 'Electric Charges and Fields', 'SECTION_CONTENT': \"This chapter discusses the fundamental concepts of electric charges and fields, including the properties of electric charge, Coulomb's law, electric field, electric field lines, electric flux, electric dipole, and applications of Gauss's law.\"}\n",
      "node props is {}\n",
      " processing key ---SUBSECTION\n",
      "<class 'graph_schema_reader.SUBSECTION'>\n",
      "no includes so creating a key {}\n",
      "________________________________\n",
      "content processe for SUBSECTION is [{'SUBSECTION_TITLE': 'Introduction', 'SUBSECTION_CONTENT': 'The chapter begins with everyday experiences of electric discharge, such as sparks or crackles when removing synthetic clothes, and explains these phenomena as the discharge of electric charges accumulated due to rubbing of insulating surfaces. The concept of static electricity and electrostatics, which deals with forces, fields, and potentials arising from static charges, is introduced.'}, {'SUBSECTION_TITLE': 'Electric Charge', 'SUBSECTION_CONTENT': 'The discovery of electric charge is attributed to Thales of Miletus, who observed that amber rubbed with wool attracts light objects. The chapter explains the concept of electrification, where bodies acquire electric charge through rubbing, and introduces the idea of positive and negative charges as defined by Benjamin Franklin. The properties of electric charge, such as quantization, additivity, and conservation, are discussed.'}, {'SUBSECTION_TITLE': 'Conductors and Insulators', 'SUBSECTION_CONTENT': 'Materials are classified as conductors or insulators based on their ability to allow the passage of electricity. Conductors, like metals, allow free movement of electric charges, while insulators, like plastic and wood, do not. The behavior of charges on conductors and insulators is explained.'}, {'SUBSECTION_TITLE': 'Basic Properties of Electric Charge', 'SUBSECTION_CONTENT': 'The section elaborates on the properties of electric charge, including additivity, conservation, and quantization. It explains how charges add up like real numbers, the conservation of charge in isolated systems, and the quantization of charge as integral multiples of a basic unit of charge, e.'}, {'SUBSECTION_TITLE': \"Coulomb's Law\", 'SUBSECTION_CONTENT': \"Coulomb's law describes the force between two point charges as proportional to the product of their charges and inversely proportional to the square of the distance between them. The law is explained with examples and its vector form is introduced.\"}, {'SUBSECTION_TITLE': 'Electric Field', 'SUBSECTION_CONTENT': 'The concept of electric field is introduced as the force experienced by a unit positive charge placed in the field. The electric field due to a point charge and a system of charges is discussed, along with the principle of superposition. The physical significance of electric fields is also explained.'}, {'SUBSECTION_TITLE': 'Electric Field Lines', 'SUBSECTION_CONTENT': 'Electric field lines are a visual representation of electric fields, indicating the direction and strength of the field. The properties of electric field lines, such as their continuity and inability to cross each other, are discussed.'}, {'SUBSECTION_TITLE': 'Electric Flux', 'SUBSECTION_CONTENT': 'Electric flux is defined as the measure of the number of electric field lines passing through a surface. The concept is explained using the analogy of liquid flow through a surface, and the mathematical expression for electric flux is provided.'}, {'SUBSECTION_TITLE': 'Electric Dipole', 'SUBSECTION_CONTENT': 'An electric dipole consists of two equal and opposite charges separated by a distance. The electric field due to a dipole and its behavior in a uniform external field are discussed. The concept of dipole moment and its significance are explained.'}, {'SUBSECTION_TITLE': \"Applications of Gauss's Law\", 'SUBSECTION_CONTENT': \"Gauss's law relates the electric flux through a closed surface to the charge enclosed by the surface. The law is applied to calculate electric fields for symmetric charge distributions, such as an infinite line charge, an infinite plane sheet, and a uniformly charged spherical shell.\"}]\n",
      "node props is {'includes': []}\n",
      " processing key ---SUBSECTION_TITLE\n",
      "NOT CHILD NODE\n",
      "{'SUBSECTION': {'SUBSECTION_TITLE': 'Introduction'}}\n",
      " processing key ---SUBSECTION_CONTENT\n",
      "NOT CHILD NODE\n",
      "{'SUBSECTION': {'SUBSECTION_TITLE': 'Introduction', 'SUBSECTION_CONTENT': 'The chapter begins with everyday experiences of electric discharge, such as sparks or crackles when removing synthetic clothes, and explains these phenomena as the discharge of electric charges accumulated due to rubbing of insulating surfaces. The concept of static electricity and electrostatics, which deals with forces, fields, and potentials arising from static charges, is introduced.'}}\n",
      "***************************\n",
      "node_props_list is [{'SUBSECTION_TITLE': 'Introduction', 'SUBSECTION_CONTENT': 'The chapter begins with everyday experiences of electric discharge, such as sparks or crackles when removing synthetic clothes, and explains these phenomena as the discharge of electric charges accumulated due to rubbing of insulating surfaces. The concept of static electricity and electrostatics, which deals with forces, fields, and potentials arising from static charges, is introduced.'}]\n",
      " processing key ---SUBSECTION_TITLE\n",
      "NOT CHILD NODE\n",
      "{'SUBSECTION': {'SUBSECTION_TITLE': 'Electric Charge'}}\n",
      " processing key ---SUBSECTION_CONTENT\n",
      "NOT CHILD NODE\n",
      "{'SUBSECTION': {'SUBSECTION_TITLE': 'Electric Charge', 'SUBSECTION_CONTENT': 'The discovery of electric charge is attributed to Thales of Miletus, who observed that amber rubbed with wool attracts light objects. The chapter explains the concept of electrification, where bodies acquire electric charge through rubbing, and introduces the idea of positive and negative charges as defined by Benjamin Franklin. The properties of electric charge, such as quantization, additivity, and conservation, are discussed.'}}\n",
      "***************************\n",
      "node_props_list is [{'SUBSECTION_TITLE': 'Introduction', 'SUBSECTION_CONTENT': 'The chapter begins with everyday experiences of electric discharge, such as sparks or crackles when removing synthetic clothes, and explains these phenomena as the discharge of electric charges accumulated due to rubbing of insulating surfaces. The concept of static electricity and electrostatics, which deals with forces, fields, and potentials arising from static charges, is introduced.'}, {'SUBSECTION_TITLE': 'Electric Charge', 'SUBSECTION_CONTENT': 'The discovery of electric charge is attributed to Thales of Miletus, who observed that amber rubbed with wool attracts light objects. The chapter explains the concept of electrification, where bodies acquire electric charge through rubbing, and introduces the idea of positive and negative charges as defined by Benjamin Franklin. The properties of electric charge, such as quantization, additivity, and conservation, are discussed.'}]\n",
      " processing key ---SUBSECTION_TITLE\n",
      "NOT CHILD NODE\n",
      "{'SUBSECTION': {'SUBSECTION_TITLE': 'Conductors and Insulators'}}\n",
      " processing key ---SUBSECTION_CONTENT\n",
      "NOT CHILD NODE\n",
      "{'SUBSECTION': {'SUBSECTION_TITLE': 'Conductors and Insulators', 'SUBSECTION_CONTENT': 'Materials are classified as conductors or insulators based on their ability to allow the passage of electricity. Conductors, like metals, allow free movement of electric charges, while insulators, like plastic and wood, do not. The behavior of charges on conductors and insulators is explained.'}}\n",
      "***************************\n",
      "node_props_list is [{'SUBSECTION_TITLE': 'Introduction', 'SUBSECTION_CONTENT': 'The chapter begins with everyday experiences of electric discharge, such as sparks or crackles when removing synthetic clothes, and explains these phenomena as the discharge of electric charges accumulated due to rubbing of insulating surfaces. The concept of static electricity and electrostatics, which deals with forces, fields, and potentials arising from static charges, is introduced.'}, {'SUBSECTION_TITLE': 'Electric Charge', 'SUBSECTION_CONTENT': 'The discovery of electric charge is attributed to Thales of Miletus, who observed that amber rubbed with wool attracts light objects. The chapter explains the concept of electrification, where bodies acquire electric charge through rubbing, and introduces the idea of positive and negative charges as defined by Benjamin Franklin. The properties of electric charge, such as quantization, additivity, and conservation, are discussed.'}, {'SUBSECTION_TITLE': 'Conductors and Insulators', 'SUBSECTION_CONTENT': 'Materials are classified as conductors or insulators based on their ability to allow the passage of electricity. Conductors, like metals, allow free movement of electric charges, while insulators, like plastic and wood, do not. The behavior of charges on conductors and insulators is explained.'}]\n",
      " processing key ---SUBSECTION_TITLE\n",
      "NOT CHILD NODE\n",
      "{'SUBSECTION': {'SUBSECTION_TITLE': 'Basic Properties of Electric Charge'}}\n",
      " processing key ---SUBSECTION_CONTENT\n",
      "NOT CHILD NODE\n",
      "{'SUBSECTION': {'SUBSECTION_TITLE': 'Basic Properties of Electric Charge', 'SUBSECTION_CONTENT': 'The section elaborates on the properties of electric charge, including additivity, conservation, and quantization. It explains how charges add up like real numbers, the conservation of charge in isolated systems, and the quantization of charge as integral multiples of a basic unit of charge, e.'}}\n",
      "***************************\n",
      "node_props_list is [{'SUBSECTION_TITLE': 'Introduction', 'SUBSECTION_CONTENT': 'The chapter begins with everyday experiences of electric discharge, such as sparks or crackles when removing synthetic clothes, and explains these phenomena as the discharge of electric charges accumulated due to rubbing of insulating surfaces. The concept of static electricity and electrostatics, which deals with forces, fields, and potentials arising from static charges, is introduced.'}, {'SUBSECTION_TITLE': 'Electric Charge', 'SUBSECTION_CONTENT': 'The discovery of electric charge is attributed to Thales of Miletus, who observed that amber rubbed with wool attracts light objects. The chapter explains the concept of electrification, where bodies acquire electric charge through rubbing, and introduces the idea of positive and negative charges as defined by Benjamin Franklin. The properties of electric charge, such as quantization, additivity, and conservation, are discussed.'}, {'SUBSECTION_TITLE': 'Conductors and Insulators', 'SUBSECTION_CONTENT': 'Materials are classified as conductors or insulators based on their ability to allow the passage of electricity. Conductors, like metals, allow free movement of electric charges, while insulators, like plastic and wood, do not. The behavior of charges on conductors and insulators is explained.'}, {'SUBSECTION_TITLE': 'Basic Properties of Electric Charge', 'SUBSECTION_CONTENT': 'The section elaborates on the properties of electric charge, including additivity, conservation, and quantization. It explains how charges add up like real numbers, the conservation of charge in isolated systems, and the quantization of charge as integral multiples of a basic unit of charge, e.'}]\n",
      " processing key ---SUBSECTION_TITLE\n",
      "NOT CHILD NODE\n",
      "{'SUBSECTION': {'SUBSECTION_TITLE': \"Coulomb's Law\"}}\n",
      " processing key ---SUBSECTION_CONTENT\n",
      "NOT CHILD NODE\n",
      "{'SUBSECTION': {'SUBSECTION_TITLE': \"Coulomb's Law\", 'SUBSECTION_CONTENT': \"Coulomb's law describes the force between two point charges as proportional to the product of their charges and inversely proportional to the square of the distance between them. The law is explained with examples and its vector form is introduced.\"}}\n",
      "***************************\n",
      "node_props_list is [{'SUBSECTION_TITLE': 'Introduction', 'SUBSECTION_CONTENT': 'The chapter begins with everyday experiences of electric discharge, such as sparks or crackles when removing synthetic clothes, and explains these phenomena as the discharge of electric charges accumulated due to rubbing of insulating surfaces. The concept of static electricity and electrostatics, which deals with forces, fields, and potentials arising from static charges, is introduced.'}, {'SUBSECTION_TITLE': 'Electric Charge', 'SUBSECTION_CONTENT': 'The discovery of electric charge is attributed to Thales of Miletus, who observed that amber rubbed with wool attracts light objects. The chapter explains the concept of electrification, where bodies acquire electric charge through rubbing, and introduces the idea of positive and negative charges as defined by Benjamin Franklin. The properties of electric charge, such as quantization, additivity, and conservation, are discussed.'}, {'SUBSECTION_TITLE': 'Conductors and Insulators', 'SUBSECTION_CONTENT': 'Materials are classified as conductors or insulators based on their ability to allow the passage of electricity. Conductors, like metals, allow free movement of electric charges, while insulators, like plastic and wood, do not. The behavior of charges on conductors and insulators is explained.'}, {'SUBSECTION_TITLE': 'Basic Properties of Electric Charge', 'SUBSECTION_CONTENT': 'The section elaborates on the properties of electric charge, including additivity, conservation, and quantization. It explains how charges add up like real numbers, the conservation of charge in isolated systems, and the quantization of charge as integral multiples of a basic unit of charge, e.'}, {'SUBSECTION_TITLE': \"Coulomb's Law\", 'SUBSECTION_CONTENT': \"Coulomb's law describes the force between two point charges as proportional to the product of their charges and inversely proportional to the square of the distance between them. The law is explained with examples and its vector form is introduced.\"}]\n",
      " processing key ---SUBSECTION_TITLE\n",
      "NOT CHILD NODE\n",
      "{'SUBSECTION': {'SUBSECTION_TITLE': 'Electric Field'}}\n",
      " processing key ---SUBSECTION_CONTENT\n",
      "NOT CHILD NODE\n",
      "{'SUBSECTION': {'SUBSECTION_TITLE': 'Electric Field', 'SUBSECTION_CONTENT': 'The concept of electric field is introduced as the force experienced by a unit positive charge placed in the field. The electric field due to a point charge and a system of charges is discussed, along with the principle of superposition. The physical significance of electric fields is also explained.'}}\n",
      "***************************\n",
      "node_props_list is [{'SUBSECTION_TITLE': 'Introduction', 'SUBSECTION_CONTENT': 'The chapter begins with everyday experiences of electric discharge, such as sparks or crackles when removing synthetic clothes, and explains these phenomena as the discharge of electric charges accumulated due to rubbing of insulating surfaces. The concept of static electricity and electrostatics, which deals with forces, fields, and potentials arising from static charges, is introduced.'}, {'SUBSECTION_TITLE': 'Electric Charge', 'SUBSECTION_CONTENT': 'The discovery of electric charge is attributed to Thales of Miletus, who observed that amber rubbed with wool attracts light objects. The chapter explains the concept of electrification, where bodies acquire electric charge through rubbing, and introduces the idea of positive and negative charges as defined by Benjamin Franklin. The properties of electric charge, such as quantization, additivity, and conservation, are discussed.'}, {'SUBSECTION_TITLE': 'Conductors and Insulators', 'SUBSECTION_CONTENT': 'Materials are classified as conductors or insulators based on their ability to allow the passage of electricity. Conductors, like metals, allow free movement of electric charges, while insulators, like plastic and wood, do not. The behavior of charges on conductors and insulators is explained.'}, {'SUBSECTION_TITLE': 'Basic Properties of Electric Charge', 'SUBSECTION_CONTENT': 'The section elaborates on the properties of electric charge, including additivity, conservation, and quantization. It explains how charges add up like real numbers, the conservation of charge in isolated systems, and the quantization of charge as integral multiples of a basic unit of charge, e.'}, {'SUBSECTION_TITLE': \"Coulomb's Law\", 'SUBSECTION_CONTENT': \"Coulomb's law describes the force between two point charges as proportional to the product of their charges and inversely proportional to the square of the distance between them. The law is explained with examples and its vector form is introduced.\"}, {'SUBSECTION_TITLE': 'Electric Field', 'SUBSECTION_CONTENT': 'The concept of electric field is introduced as the force experienced by a unit positive charge placed in the field. The electric field due to a point charge and a system of charges is discussed, along with the principle of superposition. The physical significance of electric fields is also explained.'}]\n",
      " processing key ---SUBSECTION_TITLE\n",
      "NOT CHILD NODE\n",
      "{'SUBSECTION': {'SUBSECTION_TITLE': 'Electric Field Lines'}}\n",
      " processing key ---SUBSECTION_CONTENT\n",
      "NOT CHILD NODE\n",
      "{'SUBSECTION': {'SUBSECTION_TITLE': 'Electric Field Lines', 'SUBSECTION_CONTENT': 'Electric field lines are a visual representation of electric fields, indicating the direction and strength of the field. The properties of electric field lines, such as their continuity and inability to cross each other, are discussed.'}}\n",
      "***************************\n",
      "node_props_list is [{'SUBSECTION_TITLE': 'Introduction', 'SUBSECTION_CONTENT': 'The chapter begins with everyday experiences of electric discharge, such as sparks or crackles when removing synthetic clothes, and explains these phenomena as the discharge of electric charges accumulated due to rubbing of insulating surfaces. The concept of static electricity and electrostatics, which deals with forces, fields, and potentials arising from static charges, is introduced.'}, {'SUBSECTION_TITLE': 'Electric Charge', 'SUBSECTION_CONTENT': 'The discovery of electric charge is attributed to Thales of Miletus, who observed that amber rubbed with wool attracts light objects. The chapter explains the concept of electrification, where bodies acquire electric charge through rubbing, and introduces the idea of positive and negative charges as defined by Benjamin Franklin. The properties of electric charge, such as quantization, additivity, and conservation, are discussed.'}, {'SUBSECTION_TITLE': 'Conductors and Insulators', 'SUBSECTION_CONTENT': 'Materials are classified as conductors or insulators based on their ability to allow the passage of electricity. Conductors, like metals, allow free movement of electric charges, while insulators, like plastic and wood, do not. The behavior of charges on conductors and insulators is explained.'}, {'SUBSECTION_TITLE': 'Basic Properties of Electric Charge', 'SUBSECTION_CONTENT': 'The section elaborates on the properties of electric charge, including additivity, conservation, and quantization. It explains how charges add up like real numbers, the conservation of charge in isolated systems, and the quantization of charge as integral multiples of a basic unit of charge, e.'}, {'SUBSECTION_TITLE': \"Coulomb's Law\", 'SUBSECTION_CONTENT': \"Coulomb's law describes the force between two point charges as proportional to the product of their charges and inversely proportional to the square of the distance between them. The law is explained with examples and its vector form is introduced.\"}, {'SUBSECTION_TITLE': 'Electric Field', 'SUBSECTION_CONTENT': 'The concept of electric field is introduced as the force experienced by a unit positive charge placed in the field. The electric field due to a point charge and a system of charges is discussed, along with the principle of superposition. The physical significance of electric fields is also explained.'}, {'SUBSECTION_TITLE': 'Electric Field Lines', 'SUBSECTION_CONTENT': 'Electric field lines are a visual representation of electric fields, indicating the direction and strength of the field. The properties of electric field lines, such as their continuity and inability to cross each other, are discussed.'}]\n",
      " processing key ---SUBSECTION_TITLE\n",
      "NOT CHILD NODE\n",
      "{'SUBSECTION': {'SUBSECTION_TITLE': 'Electric Flux'}}\n",
      " processing key ---SUBSECTION_CONTENT\n",
      "NOT CHILD NODE\n",
      "{'SUBSECTION': {'SUBSECTION_TITLE': 'Electric Flux', 'SUBSECTION_CONTENT': 'Electric flux is defined as the measure of the number of electric field lines passing through a surface. The concept is explained using the analogy of liquid flow through a surface, and the mathematical expression for electric flux is provided.'}}\n",
      "***************************\n",
      "node_props_list is [{'SUBSECTION_TITLE': 'Introduction', 'SUBSECTION_CONTENT': 'The chapter begins with everyday experiences of electric discharge, such as sparks or crackles when removing synthetic clothes, and explains these phenomena as the discharge of electric charges accumulated due to rubbing of insulating surfaces. The concept of static electricity and electrostatics, which deals with forces, fields, and potentials arising from static charges, is introduced.'}, {'SUBSECTION_TITLE': 'Electric Charge', 'SUBSECTION_CONTENT': 'The discovery of electric charge is attributed to Thales of Miletus, who observed that amber rubbed with wool attracts light objects. The chapter explains the concept of electrification, where bodies acquire electric charge through rubbing, and introduces the idea of positive and negative charges as defined by Benjamin Franklin. The properties of electric charge, such as quantization, additivity, and conservation, are discussed.'}, {'SUBSECTION_TITLE': 'Conductors and Insulators', 'SUBSECTION_CONTENT': 'Materials are classified as conductors or insulators based on their ability to allow the passage of electricity. Conductors, like metals, allow free movement of electric charges, while insulators, like plastic and wood, do not. The behavior of charges on conductors and insulators is explained.'}, {'SUBSECTION_TITLE': 'Basic Properties of Electric Charge', 'SUBSECTION_CONTENT': 'The section elaborates on the properties of electric charge, including additivity, conservation, and quantization. It explains how charges add up like real numbers, the conservation of charge in isolated systems, and the quantization of charge as integral multiples of a basic unit of charge, e.'}, {'SUBSECTION_TITLE': \"Coulomb's Law\", 'SUBSECTION_CONTENT': \"Coulomb's law describes the force between two point charges as proportional to the product of their charges and inversely proportional to the square of the distance between them. The law is explained with examples and its vector form is introduced.\"}, {'SUBSECTION_TITLE': 'Electric Field', 'SUBSECTION_CONTENT': 'The concept of electric field is introduced as the force experienced by a unit positive charge placed in the field. The electric field due to a point charge and a system of charges is discussed, along with the principle of superposition. The physical significance of electric fields is also explained.'}, {'SUBSECTION_TITLE': 'Electric Field Lines', 'SUBSECTION_CONTENT': 'Electric field lines are a visual representation of electric fields, indicating the direction and strength of the field. The properties of electric field lines, such as their continuity and inability to cross each other, are discussed.'}, {'SUBSECTION_TITLE': 'Electric Flux', 'SUBSECTION_CONTENT': 'Electric flux is defined as the measure of the number of electric field lines passing through a surface. The concept is explained using the analogy of liquid flow through a surface, and the mathematical expression for electric flux is provided.'}]\n",
      " processing key ---SUBSECTION_TITLE\n",
      "NOT CHILD NODE\n",
      "{'SUBSECTION': {'SUBSECTION_TITLE': 'Electric Dipole'}}\n",
      " processing key ---SUBSECTION_CONTENT\n",
      "NOT CHILD NODE\n",
      "{'SUBSECTION': {'SUBSECTION_TITLE': 'Electric Dipole', 'SUBSECTION_CONTENT': 'An electric dipole consists of two equal and opposite charges separated by a distance. The electric field due to a dipole and its behavior in a uniform external field are discussed. The concept of dipole moment and its significance are explained.'}}\n",
      "***************************\n",
      "node_props_list is [{'SUBSECTION_TITLE': 'Introduction', 'SUBSECTION_CONTENT': 'The chapter begins with everyday experiences of electric discharge, such as sparks or crackles when removing synthetic clothes, and explains these phenomena as the discharge of electric charges accumulated due to rubbing of insulating surfaces. The concept of static electricity and electrostatics, which deals with forces, fields, and potentials arising from static charges, is introduced.'}, {'SUBSECTION_TITLE': 'Electric Charge', 'SUBSECTION_CONTENT': 'The discovery of electric charge is attributed to Thales of Miletus, who observed that amber rubbed with wool attracts light objects. The chapter explains the concept of electrification, where bodies acquire electric charge through rubbing, and introduces the idea of positive and negative charges as defined by Benjamin Franklin. The properties of electric charge, such as quantization, additivity, and conservation, are discussed.'}, {'SUBSECTION_TITLE': 'Conductors and Insulators', 'SUBSECTION_CONTENT': 'Materials are classified as conductors or insulators based on their ability to allow the passage of electricity. Conductors, like metals, allow free movement of electric charges, while insulators, like plastic and wood, do not. The behavior of charges on conductors and insulators is explained.'}, {'SUBSECTION_TITLE': 'Basic Properties of Electric Charge', 'SUBSECTION_CONTENT': 'The section elaborates on the properties of electric charge, including additivity, conservation, and quantization. It explains how charges add up like real numbers, the conservation of charge in isolated systems, and the quantization of charge as integral multiples of a basic unit of charge, e.'}, {'SUBSECTION_TITLE': \"Coulomb's Law\", 'SUBSECTION_CONTENT': \"Coulomb's law describes the force between two point charges as proportional to the product of their charges and inversely proportional to the square of the distance between them. The law is explained with examples and its vector form is introduced.\"}, {'SUBSECTION_TITLE': 'Electric Field', 'SUBSECTION_CONTENT': 'The concept of electric field is introduced as the force experienced by a unit positive charge placed in the field. The electric field due to a point charge and a system of charges is discussed, along with the principle of superposition. The physical significance of electric fields is also explained.'}, {'SUBSECTION_TITLE': 'Electric Field Lines', 'SUBSECTION_CONTENT': 'Electric field lines are a visual representation of electric fields, indicating the direction and strength of the field. The properties of electric field lines, such as their continuity and inability to cross each other, are discussed.'}, {'SUBSECTION_TITLE': 'Electric Flux', 'SUBSECTION_CONTENT': 'Electric flux is defined as the measure of the number of electric field lines passing through a surface. The concept is explained using the analogy of liquid flow through a surface, and the mathematical expression for electric flux is provided.'}, {'SUBSECTION_TITLE': 'Electric Dipole', 'SUBSECTION_CONTENT': 'An electric dipole consists of two equal and opposite charges separated by a distance. The electric field due to a dipole and its behavior in a uniform external field are discussed. The concept of dipole moment and its significance are explained.'}]\n",
      " processing key ---SUBSECTION_TITLE\n",
      "NOT CHILD NODE\n",
      "{'SUBSECTION': {'SUBSECTION_TITLE': \"Applications of Gauss's Law\"}}\n",
      " processing key ---SUBSECTION_CONTENT\n",
      "NOT CHILD NODE\n",
      "{'SUBSECTION': {'SUBSECTION_TITLE': \"Applications of Gauss's Law\", 'SUBSECTION_CONTENT': \"Gauss's law relates the electric flux through a closed surface to the charge enclosed by the surface. The law is applied to calculate electric fields for symmetric charge distributions, such as an infinite line charge, an infinite plane sheet, and a uniformly charged spherical shell.\"}}\n",
      "***************************\n",
      "node_props_list is [{'SUBSECTION_TITLE': 'Introduction', 'SUBSECTION_CONTENT': 'The chapter begins with everyday experiences of electric discharge, such as sparks or crackles when removing synthetic clothes, and explains these phenomena as the discharge of electric charges accumulated due to rubbing of insulating surfaces. The concept of static electricity and electrostatics, which deals with forces, fields, and potentials arising from static charges, is introduced.'}, {'SUBSECTION_TITLE': 'Electric Charge', 'SUBSECTION_CONTENT': 'The discovery of electric charge is attributed to Thales of Miletus, who observed that amber rubbed with wool attracts light objects. The chapter explains the concept of electrification, where bodies acquire electric charge through rubbing, and introduces the idea of positive and negative charges as defined by Benjamin Franklin. The properties of electric charge, such as quantization, additivity, and conservation, are discussed.'}, {'SUBSECTION_TITLE': 'Conductors and Insulators', 'SUBSECTION_CONTENT': 'Materials are classified as conductors or insulators based on their ability to allow the passage of electricity. Conductors, like metals, allow free movement of electric charges, while insulators, like plastic and wood, do not. The behavior of charges on conductors and insulators is explained.'}, {'SUBSECTION_TITLE': 'Basic Properties of Electric Charge', 'SUBSECTION_CONTENT': 'The section elaborates on the properties of electric charge, including additivity, conservation, and quantization. It explains how charges add up like real numbers, the conservation of charge in isolated systems, and the quantization of charge as integral multiples of a basic unit of charge, e.'}, {'SUBSECTION_TITLE': \"Coulomb's Law\", 'SUBSECTION_CONTENT': \"Coulomb's law describes the force between two point charges as proportional to the product of their charges and inversely proportional to the square of the distance between them. The law is explained with examples and its vector form is introduced.\"}, {'SUBSECTION_TITLE': 'Electric Field', 'SUBSECTION_CONTENT': 'The concept of electric field is introduced as the force experienced by a unit positive charge placed in the field. The electric field due to a point charge and a system of charges is discussed, along with the principle of superposition. The physical significance of electric fields is also explained.'}, {'SUBSECTION_TITLE': 'Electric Field Lines', 'SUBSECTION_CONTENT': 'Electric field lines are a visual representation of electric fields, indicating the direction and strength of the field. The properties of electric field lines, such as their continuity and inability to cross each other, are discussed.'}, {'SUBSECTION_TITLE': 'Electric Flux', 'SUBSECTION_CONTENT': 'Electric flux is defined as the measure of the number of electric field lines passing through a surface. The concept is explained using the analogy of liquid flow through a surface, and the mathematical expression for electric flux is provided.'}, {'SUBSECTION_TITLE': 'Electric Dipole', 'SUBSECTION_CONTENT': 'An electric dipole consists of two equal and opposite charges separated by a distance. The electric field due to a dipole and its behavior in a uniform external field are discussed. The concept of dipole moment and its significance are explained.'}, {'SUBSECTION_TITLE': \"Applications of Gauss's Law\", 'SUBSECTION_CONTENT': \"Gauss's law relates the electric flux through a closed surface to the charge enclosed by the surface. The law is applied to calculate electric fields for symmetric charge distributions, such as an infinite line charge, an infinite plane sheet, and a uniformly charged spherical shell.\"}]\n",
      "returned node props {'SUBSECTION': [{'SUBSECTION_TITLE': 'Introduction', 'SUBSECTION_CONTENT': 'The chapter begins with everyday experiences of electric discharge, such as sparks or crackles when removing synthetic clothes, and explains these phenomena as the discharge of electric charges accumulated due to rubbing of insulating surfaces. The concept of static electricity and electrostatics, which deals with forces, fields, and potentials arising from static charges, is introduced.'}, {'SUBSECTION_TITLE': 'Electric Charge', 'SUBSECTION_CONTENT': 'The discovery of electric charge is attributed to Thales of Miletus, who observed that amber rubbed with wool attracts light objects. The chapter explains the concept of electrification, where bodies acquire electric charge through rubbing, and introduces the idea of positive and negative charges as defined by Benjamin Franklin. The properties of electric charge, such as quantization, additivity, and conservation, are discussed.'}, {'SUBSECTION_TITLE': 'Conductors and Insulators', 'SUBSECTION_CONTENT': 'Materials are classified as conductors or insulators based on their ability to allow the passage of electricity. Conductors, like metals, allow free movement of electric charges, while insulators, like plastic and wood, do not. The behavior of charges on conductors and insulators is explained.'}, {'SUBSECTION_TITLE': 'Basic Properties of Electric Charge', 'SUBSECTION_CONTENT': 'The section elaborates on the properties of electric charge, including additivity, conservation, and quantization. It explains how charges add up like real numbers, the conservation of charge in isolated systems, and the quantization of charge as integral multiples of a basic unit of charge, e.'}, {'SUBSECTION_TITLE': \"Coulomb's Law\", 'SUBSECTION_CONTENT': \"Coulomb's law describes the force between two point charges as proportional to the product of their charges and inversely proportional to the square of the distance between them. The law is explained with examples and its vector form is introduced.\"}, {'SUBSECTION_TITLE': 'Electric Field', 'SUBSECTION_CONTENT': 'The concept of electric field is introduced as the force experienced by a unit positive charge placed in the field. The electric field due to a point charge and a system of charges is discussed, along with the principle of superposition. The physical significance of electric fields is also explained.'}, {'SUBSECTION_TITLE': 'Electric Field Lines', 'SUBSECTION_CONTENT': 'Electric field lines are a visual representation of electric fields, indicating the direction and strength of the field. The properties of electric field lines, such as their continuity and inability to cross each other, are discussed.'}, {'SUBSECTION_TITLE': 'Electric Flux', 'SUBSECTION_CONTENT': 'Electric flux is defined as the measure of the number of electric field lines passing through a surface. The concept is explained using the analogy of liquid flow through a surface, and the mathematical expression for electric flux is provided.'}, {'SUBSECTION_TITLE': 'Electric Dipole', 'SUBSECTION_CONTENT': 'An electric dipole consists of two equal and opposite charges separated by a distance. The electric field due to a dipole and its behavior in a uniform external field are discussed. The concept of dipole moment and its significance are explained.'}, {'SUBSECTION_TITLE': \"Applications of Gauss's Law\", 'SUBSECTION_CONTENT': \"Gauss's law relates the electric flux through a closed surface to the charge enclosed by the surface. The law is applied to calculate electric fields for symmetric charge distributions, such as an infinite line charge, an infinite plane sheet, and a uniformly charged spherical shell.\"}]}\n",
      "-------------------------\n",
      "props of child {'SUBSECTION': [{'SUBSECTION_TITLE': 'Introduction', 'SUBSECTION_CONTENT': 'The chapter begins with everyday experiences of electric discharge, such as sparks or crackles when removing synthetic clothes, and explains these phenomena as the discharge of electric charges accumulated due to rubbing of insulating surfaces. The concept of static electricity and electrostatics, which deals with forces, fields, and potentials arising from static charges, is introduced.'}, {'SUBSECTION_TITLE': 'Electric Charge', 'SUBSECTION_CONTENT': 'The discovery of electric charge is attributed to Thales of Miletus, who observed that amber rubbed with wool attracts light objects. The chapter explains the concept of electrification, where bodies acquire electric charge through rubbing, and introduces the idea of positive and negative charges as defined by Benjamin Franklin. The properties of electric charge, such as quantization, additivity, and conservation, are discussed.'}, {'SUBSECTION_TITLE': 'Conductors and Insulators', 'SUBSECTION_CONTENT': 'Materials are classified as conductors or insulators based on their ability to allow the passage of electricity. Conductors, like metals, allow free movement of electric charges, while insulators, like plastic and wood, do not. The behavior of charges on conductors and insulators is explained.'}, {'SUBSECTION_TITLE': 'Basic Properties of Electric Charge', 'SUBSECTION_CONTENT': 'The section elaborates on the properties of electric charge, including additivity, conservation, and quantization. It explains how charges add up like real numbers, the conservation of charge in isolated systems, and the quantization of charge as integral multiples of a basic unit of charge, e.'}, {'SUBSECTION_TITLE': \"Coulomb's Law\", 'SUBSECTION_CONTENT': \"Coulomb's law describes the force between two point charges as proportional to the product of their charges and inversely proportional to the square of the distance between them. The law is explained with examples and its vector form is introduced.\"}, {'SUBSECTION_TITLE': 'Electric Field', 'SUBSECTION_CONTENT': 'The concept of electric field is introduced as the force experienced by a unit positive charge placed in the field. The electric field due to a point charge and a system of charges is discussed, along with the principle of superposition. The physical significance of electric fields is also explained.'}, {'SUBSECTION_TITLE': 'Electric Field Lines', 'SUBSECTION_CONTENT': 'Electric field lines are a visual representation of electric fields, indicating the direction and strength of the field. The properties of electric field lines, such as their continuity and inability to cross each other, are discussed.'}, {'SUBSECTION_TITLE': 'Electric Flux', 'SUBSECTION_CONTENT': 'Electric flux is defined as the measure of the number of electric field lines passing through a surface. The concept is explained using the analogy of liquid flow through a surface, and the mathematical expression for electric flux is provided.'}, {'SUBSECTION_TITLE': 'Electric Dipole', 'SUBSECTION_CONTENT': 'An electric dipole consists of two equal and opposite charges separated by a distance. The electric field due to a dipole and its behavior in a uniform external field are discussed. The concept of dipole moment and its significance are explained.'}, {'SUBSECTION_TITLE': \"Applications of Gauss's Law\", 'SUBSECTION_CONTENT': \"Gauss's law relates the electric flux through a closed surface to the charge enclosed by the surface. The law is applied to calculate electric fields for symmetric charge distributions, such as an infinite line charge, an infinite plane sheet, and a uniformly charged spherical shell.\"}]}\n",
      " processing key ---EXAMPLE\n",
      "________________________________\n",
      "content processe for EXAMPLE is {'EXAMPLE_TITLE': 'Example 1.1', 'EXAMPLE_CONTENT': 'If 10^9 electrons move out of a body to another body every second, how much time is required to get a total charge of 1 C on the other body? Solution: In one second, 10^9 electrons move out of the body, giving a charge of 1.6 × 10^-10 C. To accumulate a charge of 1 C, it would take 6.25 × 10^9 seconds, or approximately 200 years.'}\n",
      "node props is {'includes': [{'SUBSECTION': [{'SUBSECTION_TITLE': 'Introduction', 'SUBSECTION_CONTENT': 'The chapter begins with everyday experiences of electric discharge, such as sparks or crackles when removing synthetic clothes, and explains these phenomena as the discharge of electric charges accumulated due to rubbing of insulating surfaces. The concept of static electricity and electrostatics, which deals with forces, fields, and potentials arising from static charges, is introduced.'}, {'SUBSECTION_TITLE': 'Electric Charge', 'SUBSECTION_CONTENT': 'The discovery of electric charge is attributed to Thales of Miletus, who observed that amber rubbed with wool attracts light objects. The chapter explains the concept of electrification, where bodies acquire electric charge through rubbing, and introduces the idea of positive and negative charges as defined by Benjamin Franklin. The properties of electric charge, such as quantization, additivity, and conservation, are discussed.'}, {'SUBSECTION_TITLE': 'Conductors and Insulators', 'SUBSECTION_CONTENT': 'Materials are classified as conductors or insulators based on their ability to allow the passage of electricity. Conductors, like metals, allow free movement of electric charges, while insulators, like plastic and wood, do not. The behavior of charges on conductors and insulators is explained.'}, {'SUBSECTION_TITLE': 'Basic Properties of Electric Charge', 'SUBSECTION_CONTENT': 'The section elaborates on the properties of electric charge, including additivity, conservation, and quantization. It explains how charges add up like real numbers, the conservation of charge in isolated systems, and the quantization of charge as integral multiples of a basic unit of charge, e.'}, {'SUBSECTION_TITLE': \"Coulomb's Law\", 'SUBSECTION_CONTENT': \"Coulomb's law describes the force between two point charges as proportional to the product of their charges and inversely proportional to the square of the distance between them. The law is explained with examples and its vector form is introduced.\"}, {'SUBSECTION_TITLE': 'Electric Field', 'SUBSECTION_CONTENT': 'The concept of electric field is introduced as the force experienced by a unit positive charge placed in the field. The electric field due to a point charge and a system of charges is discussed, along with the principle of superposition. The physical significance of electric fields is also explained.'}, {'SUBSECTION_TITLE': 'Electric Field Lines', 'SUBSECTION_CONTENT': 'Electric field lines are a visual representation of electric fields, indicating the direction and strength of the field. The properties of electric field lines, such as their continuity and inability to cross each other, are discussed.'}, {'SUBSECTION_TITLE': 'Electric Flux', 'SUBSECTION_CONTENT': 'Electric flux is defined as the measure of the number of electric field lines passing through a surface. The concept is explained using the analogy of liquid flow through a surface, and the mathematical expression for electric flux is provided.'}, {'SUBSECTION_TITLE': 'Electric Dipole', 'SUBSECTION_CONTENT': 'An electric dipole consists of two equal and opposite charges separated by a distance. The electric field due to a dipole and its behavior in a uniform external field are discussed. The concept of dipole moment and its significance are explained.'}, {'SUBSECTION_TITLE': \"Applications of Gauss's Law\", 'SUBSECTION_CONTENT': \"Gauss's law relates the electric flux through a closed surface to the charge enclosed by the surface. The law is applied to calculate electric fields for symmetric charge distributions, such as an infinite line charge, an infinite plane sheet, and a uniformly charged spherical shell.\"}]}]}\n",
      " processing key ---EXAMPLE_TITLE\n",
      "NOT CHILD NODE\n",
      "{'EXAMPLE': {'EXAMPLE_TITLE': 'Example 1.1'}}\n",
      " processing key ---EXAMPLE_CONTENT\n",
      "NOT CHILD NODE\n",
      "{'EXAMPLE': {'EXAMPLE_TITLE': 'Example 1.1', 'EXAMPLE_CONTENT': 'If 10^9 electrons move out of a body to another body every second, how much time is required to get a total charge of 1 C on the other body? Solution: In one second, 10^9 electrons move out of the body, giving a charge of 1.6 × 10^-10 C. To accumulate a charge of 1 C, it would take 6.25 × 10^9 seconds, or approximately 200 years.'}}\n",
      "returned node props {'EXAMPLE': {'EXAMPLE_TITLE': 'Example 1.1', 'EXAMPLE_CONTENT': 'If 10^9 electrons move out of a body to another body every second, how much time is required to get a total charge of 1 C on the other body? Solution: In one second, 10^9 electrons move out of the body, giving a charge of 1.6 × 10^-10 C. To accumulate a charge of 1 C, it would take 6.25 × 10^9 seconds, or approximately 200 years.'}}\n",
      "-------------------------\n",
      "props of child {'EXAMPLE': {'EXAMPLE_TITLE': 'Example 1.1', 'EXAMPLE_CONTENT': 'If 10^9 electrons move out of a body to another body every second, how much time is required to get a total charge of 1 C on the other body? Solution: In one second, 10^9 electrons move out of the body, giving a charge of 1.6 × 10^-10 C. To accumulate a charge of 1 C, it would take 6.25 × 10^9 seconds, or approximately 200 years.'}}\n",
      " processing key ---SECTION_TITLE\n",
      "NOT CHILD NODE\n",
      "{'SECTION': {'includes': [{'SUBSECTION': [{'SUBSECTION_TITLE': 'Introduction', 'SUBSECTION_CONTENT': 'The chapter begins with everyday experiences of electric discharge, such as sparks or crackles when removing synthetic clothes, and explains these phenomena as the discharge of electric charges accumulated due to rubbing of insulating surfaces. The concept of static electricity and electrostatics, which deals with forces, fields, and potentials arising from static charges, is introduced.'}, {'SUBSECTION_TITLE': 'Electric Charge', 'SUBSECTION_CONTENT': 'The discovery of electric charge is attributed to Thales of Miletus, who observed that amber rubbed with wool attracts light objects. The chapter explains the concept of electrification, where bodies acquire electric charge through rubbing, and introduces the idea of positive and negative charges as defined by Benjamin Franklin. The properties of electric charge, such as quantization, additivity, and conservation, are discussed.'}, {'SUBSECTION_TITLE': 'Conductors and Insulators', 'SUBSECTION_CONTENT': 'Materials are classified as conductors or insulators based on their ability to allow the passage of electricity. Conductors, like metals, allow free movement of electric charges, while insulators, like plastic and wood, do not. The behavior of charges on conductors and insulators is explained.'}, {'SUBSECTION_TITLE': 'Basic Properties of Electric Charge', 'SUBSECTION_CONTENT': 'The section elaborates on the properties of electric charge, including additivity, conservation, and quantization. It explains how charges add up like real numbers, the conservation of charge in isolated systems, and the quantization of charge as integral multiples of a basic unit of charge, e.'}, {'SUBSECTION_TITLE': \"Coulomb's Law\", 'SUBSECTION_CONTENT': \"Coulomb's law describes the force between two point charges as proportional to the product of their charges and inversely proportional to the square of the distance between them. The law is explained with examples and its vector form is introduced.\"}, {'SUBSECTION_TITLE': 'Electric Field', 'SUBSECTION_CONTENT': 'The concept of electric field is introduced as the force experienced by a unit positive charge placed in the field. The electric field due to a point charge and a system of charges is discussed, along with the principle of superposition. The physical significance of electric fields is also explained.'}, {'SUBSECTION_TITLE': 'Electric Field Lines', 'SUBSECTION_CONTENT': 'Electric field lines are a visual representation of electric fields, indicating the direction and strength of the field. The properties of electric field lines, such as their continuity and inability to cross each other, are discussed.'}, {'SUBSECTION_TITLE': 'Electric Flux', 'SUBSECTION_CONTENT': 'Electric flux is defined as the measure of the number of electric field lines passing through a surface. The concept is explained using the analogy of liquid flow through a surface, and the mathematical expression for electric flux is provided.'}, {'SUBSECTION_TITLE': 'Electric Dipole', 'SUBSECTION_CONTENT': 'An electric dipole consists of two equal and opposite charges separated by a distance. The electric field due to a dipole and its behavior in a uniform external field are discussed. The concept of dipole moment and its significance are explained.'}, {'SUBSECTION_TITLE': \"Applications of Gauss's Law\", 'SUBSECTION_CONTENT': \"Gauss's law relates the electric flux through a closed surface to the charge enclosed by the surface. The law is applied to calculate electric fields for symmetric charge distributions, such as an infinite line charge, an infinite plane sheet, and a uniformly charged spherical shell.\"}]}, {'EXAMPLE': {'EXAMPLE_TITLE': 'Example 1.1', 'EXAMPLE_CONTENT': 'If 10^9 electrons move out of a body to another body every second, how much time is required to get a total charge of 1 C on the other body? Solution: In one second, 10^9 electrons move out of the body, giving a charge of 1.6 × 10^-10 C. To accumulate a charge of 1 C, it would take 6.25 × 10^9 seconds, or approximately 200 years.'}}], 'SECTION_TITLE': 'Electric Charges and Fields'}}\n",
      " processing key ---SECTION_CONTENT\n",
      "NOT CHILD NODE\n",
      "{'SECTION': {'includes': [{'SUBSECTION': [{'SUBSECTION_TITLE': 'Introduction', 'SUBSECTION_CONTENT': 'The chapter begins with everyday experiences of electric discharge, such as sparks or crackles when removing synthetic clothes, and explains these phenomena as the discharge of electric charges accumulated due to rubbing of insulating surfaces. The concept of static electricity and electrostatics, which deals with forces, fields, and potentials arising from static charges, is introduced.'}, {'SUBSECTION_TITLE': 'Electric Charge', 'SUBSECTION_CONTENT': 'The discovery of electric charge is attributed to Thales of Miletus, who observed that amber rubbed with wool attracts light objects. The chapter explains the concept of electrification, where bodies acquire electric charge through rubbing, and introduces the idea of positive and negative charges as defined by Benjamin Franklin. The properties of electric charge, such as quantization, additivity, and conservation, are discussed.'}, {'SUBSECTION_TITLE': 'Conductors and Insulators', 'SUBSECTION_CONTENT': 'Materials are classified as conductors or insulators based on their ability to allow the passage of electricity. Conductors, like metals, allow free movement of electric charges, while insulators, like plastic and wood, do not. The behavior of charges on conductors and insulators is explained.'}, {'SUBSECTION_TITLE': 'Basic Properties of Electric Charge', 'SUBSECTION_CONTENT': 'The section elaborates on the properties of electric charge, including additivity, conservation, and quantization. It explains how charges add up like real numbers, the conservation of charge in isolated systems, and the quantization of charge as integral multiples of a basic unit of charge, e.'}, {'SUBSECTION_TITLE': \"Coulomb's Law\", 'SUBSECTION_CONTENT': \"Coulomb's law describes the force between two point charges as proportional to the product of their charges and inversely proportional to the square of the distance between them. The law is explained with examples and its vector form is introduced.\"}, {'SUBSECTION_TITLE': 'Electric Field', 'SUBSECTION_CONTENT': 'The concept of electric field is introduced as the force experienced by a unit positive charge placed in the field. The electric field due to a point charge and a system of charges is discussed, along with the principle of superposition. The physical significance of electric fields is also explained.'}, {'SUBSECTION_TITLE': 'Electric Field Lines', 'SUBSECTION_CONTENT': 'Electric field lines are a visual representation of electric fields, indicating the direction and strength of the field. The properties of electric field lines, such as their continuity and inability to cross each other, are discussed.'}, {'SUBSECTION_TITLE': 'Electric Flux', 'SUBSECTION_CONTENT': 'Electric flux is defined as the measure of the number of electric field lines passing through a surface. The concept is explained using the analogy of liquid flow through a surface, and the mathematical expression for electric flux is provided.'}, {'SUBSECTION_TITLE': 'Electric Dipole', 'SUBSECTION_CONTENT': 'An electric dipole consists of two equal and opposite charges separated by a distance. The electric field due to a dipole and its behavior in a uniform external field are discussed. The concept of dipole moment and its significance are explained.'}, {'SUBSECTION_TITLE': \"Applications of Gauss's Law\", 'SUBSECTION_CONTENT': \"Gauss's law relates the electric flux through a closed surface to the charge enclosed by the surface. The law is applied to calculate electric fields for symmetric charge distributions, such as an infinite line charge, an infinite plane sheet, and a uniformly charged spherical shell.\"}]}, {'EXAMPLE': {'EXAMPLE_TITLE': 'Example 1.1', 'EXAMPLE_CONTENT': 'If 10^9 electrons move out of a body to another body every second, how much time is required to get a total charge of 1 C on the other body? Solution: In one second, 10^9 electrons move out of the body, giving a charge of 1.6 × 10^-10 C. To accumulate a charge of 1 C, it would take 6.25 × 10^9 seconds, or approximately 200 years.'}}], 'SECTION_TITLE': 'Electric Charges and Fields', 'SECTION_CONTENT': \"This chapter discusses the fundamental concepts of electric charges and fields, including the properties of electric charge, Coulomb's law, electric field, electric field lines, electric flux, electric dipole, and applications of Gauss's law.\"}}\n",
      "returned node props {'SECTION': {'includes': [{'SUBSECTION': [{'SUBSECTION_TITLE': 'Introduction', 'SUBSECTION_CONTENT': 'The chapter begins with everyday experiences of electric discharge, such as sparks or crackles when removing synthetic clothes, and explains these phenomena as the discharge of electric charges accumulated due to rubbing of insulating surfaces. The concept of static electricity and electrostatics, which deals with forces, fields, and potentials arising from static charges, is introduced.'}, {'SUBSECTION_TITLE': 'Electric Charge', 'SUBSECTION_CONTENT': 'The discovery of electric charge is attributed to Thales of Miletus, who observed that amber rubbed with wool attracts light objects. The chapter explains the concept of electrification, where bodies acquire electric charge through rubbing, and introduces the idea of positive and negative charges as defined by Benjamin Franklin. The properties of electric charge, such as quantization, additivity, and conservation, are discussed.'}, {'SUBSECTION_TITLE': 'Conductors and Insulators', 'SUBSECTION_CONTENT': 'Materials are classified as conductors or insulators based on their ability to allow the passage of electricity. Conductors, like metals, allow free movement of electric charges, while insulators, like plastic and wood, do not. The behavior of charges on conductors and insulators is explained.'}, {'SUBSECTION_TITLE': 'Basic Properties of Electric Charge', 'SUBSECTION_CONTENT': 'The section elaborates on the properties of electric charge, including additivity, conservation, and quantization. It explains how charges add up like real numbers, the conservation of charge in isolated systems, and the quantization of charge as integral multiples of a basic unit of charge, e.'}, {'SUBSECTION_TITLE': \"Coulomb's Law\", 'SUBSECTION_CONTENT': \"Coulomb's law describes the force between two point charges as proportional to the product of their charges and inversely proportional to the square of the distance between them. The law is explained with examples and its vector form is introduced.\"}, {'SUBSECTION_TITLE': 'Electric Field', 'SUBSECTION_CONTENT': 'The concept of electric field is introduced as the force experienced by a unit positive charge placed in the field. The electric field due to a point charge and a system of charges is discussed, along with the principle of superposition. The physical significance of electric fields is also explained.'}, {'SUBSECTION_TITLE': 'Electric Field Lines', 'SUBSECTION_CONTENT': 'Electric field lines are a visual representation of electric fields, indicating the direction and strength of the field. The properties of electric field lines, such as their continuity and inability to cross each other, are discussed.'}, {'SUBSECTION_TITLE': 'Electric Flux', 'SUBSECTION_CONTENT': 'Electric flux is defined as the measure of the number of electric field lines passing through a surface. The concept is explained using the analogy of liquid flow through a surface, and the mathematical expression for electric flux is provided.'}, {'SUBSECTION_TITLE': 'Electric Dipole', 'SUBSECTION_CONTENT': 'An electric dipole consists of two equal and opposite charges separated by a distance. The electric field due to a dipole and its behavior in a uniform external field are discussed. The concept of dipole moment and its significance are explained.'}, {'SUBSECTION_TITLE': \"Applications of Gauss's Law\", 'SUBSECTION_CONTENT': \"Gauss's law relates the electric flux through a closed surface to the charge enclosed by the surface. The law is applied to calculate electric fields for symmetric charge distributions, such as an infinite line charge, an infinite plane sheet, and a uniformly charged spherical shell.\"}]}, {'EXAMPLE': {'EXAMPLE_TITLE': 'Example 1.1', 'EXAMPLE_CONTENT': 'If 10^9 electrons move out of a body to another body every second, how much time is required to get a total charge of 1 C on the other body? Solution: In one second, 10^9 electrons move out of the body, giving a charge of 1.6 × 10^-10 C. To accumulate a charge of 1 C, it would take 6.25 × 10^9 seconds, or approximately 200 years.'}}], 'SECTION_TITLE': 'Electric Charges and Fields', 'SECTION_CONTENT': \"This chapter discusses the fundamental concepts of electric charges and fields, including the properties of electric charge, Coulomb's law, electric field, electric field lines, electric flux, electric dipole, and applications of Gauss's law.\"}}\n"
     ]
    },
    {
     "data": {
      "text/plain": [
       "{'SECTION': {'includes': [{'SUBSECTION': [{'SUBSECTION_TITLE': 'Introduction',\n",
       "      'SUBSECTION_CONTENT': 'The chapter begins with everyday experiences of electric discharge, such as sparks or crackles when removing synthetic clothes, and explains these phenomena as the discharge of electric charges accumulated due to rubbing of insulating surfaces. The concept of static electricity and electrostatics, which deals with forces, fields, and potentials arising from static charges, is introduced.'},\n",
       "     {'SUBSECTION_TITLE': 'Electric Charge',\n",
       "      'SUBSECTION_CONTENT': 'The discovery of electric charge is attributed to Thales of Miletus, who observed that amber rubbed with wool attracts light objects. The chapter explains the concept of electrification, where bodies acquire electric charge through rubbing, and introduces the idea of positive and negative charges as defined by Benjamin Franklin. The properties of electric charge, such as quantization, additivity, and conservation, are discussed.'},\n",
       "     {'SUBSECTION_TITLE': 'Conductors and Insulators',\n",
       "      'SUBSECTION_CONTENT': 'Materials are classified as conductors or insulators based on their ability to allow the passage of electricity. Conductors, like metals, allow free movement of electric charges, while insulators, like plastic and wood, do not. The behavior of charges on conductors and insulators is explained.'},\n",
       "     {'SUBSECTION_TITLE': 'Basic Properties of Electric Charge',\n",
       "      'SUBSECTION_CONTENT': 'The section elaborates on the properties of electric charge, including additivity, conservation, and quantization. It explains how charges add up like real numbers, the conservation of charge in isolated systems, and the quantization of charge as integral multiples of a basic unit of charge, e.'},\n",
       "     {'SUBSECTION_TITLE': \"Coulomb's Law\",\n",
       "      'SUBSECTION_CONTENT': \"Coulomb's law describes the force between two point charges as proportional to the product of their charges and inversely proportional to the square of the distance between them. The law is explained with examples and its vector form is introduced.\"},\n",
       "     {'SUBSECTION_TITLE': 'Electric Field',\n",
       "      'SUBSECTION_CONTENT': 'The concept of electric field is introduced as the force experienced by a unit positive charge placed in the field. The electric field due to a point charge and a system of charges is discussed, along with the principle of superposition. The physical significance of electric fields is also explained.'},\n",
       "     {'SUBSECTION_TITLE': 'Electric Field Lines',\n",
       "      'SUBSECTION_CONTENT': 'Electric field lines are a visual representation of electric fields, indicating the direction and strength of the field. The properties of electric field lines, such as their continuity and inability to cross each other, are discussed.'},\n",
       "     {'SUBSECTION_TITLE': 'Electric Flux',\n",
       "      'SUBSECTION_CONTENT': 'Electric flux is defined as the measure of the number of electric field lines passing through a surface. The concept is explained using the analogy of liquid flow through a surface, and the mathematical expression for electric flux is provided.'},\n",
       "     {'SUBSECTION_TITLE': 'Electric Dipole',\n",
       "      'SUBSECTION_CONTENT': 'An electric dipole consists of two equal and opposite charges separated by a distance. The electric field due to a dipole and its behavior in a uniform external field are discussed. The concept of dipole moment and its significance are explained.'},\n",
       "     {'SUBSECTION_TITLE': \"Applications of Gauss's Law\",\n",
       "      'SUBSECTION_CONTENT': \"Gauss's law relates the electric flux through a closed surface to the charge enclosed by the surface. The law is applied to calculate electric fields for symmetric charge distributions, such as an infinite line charge, an infinite plane sheet, and a uniformly charged spherical shell.\"}]},\n",
       "   {'EXAMPLE': {'EXAMPLE_TITLE': 'Example 1.1',\n",
       "     'EXAMPLE_CONTENT': 'If 10^9 electrons move out of a body to another body every second, how much time is required to get a total charge of 1 C on the other body? Solution: In one second, 10^9 electrons move out of the body, giving a charge of 1.6 × 10^-10 C. To accumulate a charge of 1 C, it would take 6.25 × 10^9 seconds, or approximately 200 years.'}}],\n",
       "  'SECTION_TITLE': 'Electric Charges and Fields',\n",
       "  'SECTION_CONTENT': \"This chapter discusses the fundamental concepts of electric charges and fields, including the properties of electric charge, Coulomb's law, electric field, electric field lines, electric flux, electric dipole, and applications of Gauss's law.\"}}"
      ]
     },
     "execution_count": 20,
     "metadata": {},
     "output_type": "execute_result"
    }
   ],
   "source": [
    "def parsedict(root_class,content,node_props):\n",
    "    node_name = root_class.__name__\n",
    "    for k,v in content.items():\n",
    "        print(f\" processing key ---{k}\")\n",
    "        data_type = getFieldTypeForClass(root_class,k)\n",
    "        isChildNode = isinstance(data_type,pydantic._internal._model_construction.ModelMetaclass)\n",
    "        if not isChildNode:\n",
    "            print(\"NOT CHILD NODE\")\n",
    "            node_props[node_name][k]=v\n",
    "            print(node_props)\n",
    "        else:\n",
    "\n",
    "            if not 'includes' in node_props[node_name]:\n",
    "                print(\"no includes so creating a key\",node_props[node_name])\n",
    "                node_props[node_name]['includes']=[]\n",
    "            props_for_child = build_schema_dict(data_type,v,node_props[node_name])\n",
    "            print(\"-------------------------\")\n",
    "            print(\"props of child\",props_for_child)\n",
    "            node_props[node_name]['includes'].append(props_for_child)\n",
    "    return node_props\n",
    "    \n",
    "\n",
    "\n",
    "\n",
    "def build_schema_dict(root_class,content,node_props):\n",
    "    node_name = root_class.__name__\n",
    "    print(\"________________________________\")\n",
    "    print(f\"content processe for {node_name} is {content}\")\n",
    "    print(f\"node props is {node_props}\")\n",
    "    \n",
    "    if type(content) is dict:\n",
    "        node_props = {node_name:{}}\n",
    "        node_props = parsedict(root_class,content,node_props)    \n",
    "        \n",
    "    elif type(content) is list:\n",
    "        node_props_list = []\n",
    "        for item in content:\n",
    "#             print(item)\n",
    "            node_props = {node_name:{}}\n",
    "            node_props = parsedict(root_class,item,node_props) \n",
    "            \n",
    "            node_props_list.append(node_props[node_name])\n",
    "            print(\"***************************\")\n",
    "            print(f\"node_props_list is {node_props_list}\")\n",
    "        node_props = {node_name:node_props_list}\n",
    "    print(f\"returned node props {node_props}\")         \n",
    "    return node_props        \n",
    "        \n",
    "        \n",
    "structured_output_matching_schema = build_schema_dict(structured_output_model,structured_output,{})\n",
    "structured_output_matching_schema"
   ]
  },
  {
   "cell_type": "code",
   "execution_count": 178,
   "id": "af7a89fa",
   "metadata": {},
   "outputs": [
    {
     "data": {
      "text/plain": [
       "dict_keys(['includes', 'SECTION_TITLE', 'SECTION_CONTENT'])"
      ]
     },
     "execution_count": 178,
     "metadata": {},
     "output_type": "execute_result"
    }
   ],
   "source": [
    "schema['SECTION'].keys()"
   ]
  },
  {
   "cell_type": "code",
   "execution_count": 11,
   "id": "3308a071",
   "metadata": {},
   "outputs": [],
   "source": [
    "import neo4j\n",
    "from db import *\n",
    "\n"
   ]
  },
  {
   "cell_type": "code",
   "execution_count": 15,
   "id": "992570b4",
   "metadata": {},
   "outputs": [
    {
     "name": "stdout",
     "output_type": "stream",
     "text": [
      "SECTION_TITLE\n",
      "SECTION_CONTENT\n",
      "MERGE (node:SECTION{SECTION_TITLE:'1.4 BASIC PROPERTIES OF ELECTRIC CHARGE',SECTION_CONTENT:'We have seen that there are two types of charges, namely positive and negative and their effects tend to cancel each other. Here, we shall now describe some other properties of the electric charge. If the sizes of charged bodies are very small as compared to the distances between them, we treat them as point charges. All the charge content of the body is assumed to be concentrated at one point in space.' } )\n",
      "parent node is None\n",
      "Initializing Neo4j connection...\n",
      "Loading Neo4j credentials...\n",
      "✓ Credentials loaded successfully\n",
      "✓ Neo4j connection established\n",
      "child in includes list:{'SUBSECTION': [{'SUBSECTION_TITLE': '1.4.1 Additivity of charges', 'SUBSECTION_CONTENT': 'We have not as yet given a quantitative definition of a charge; we shall follow it up in the next section. We shall tentatively assume that this can be done and proceed. If a system contains two point charges q1 and q2, the total charge of the system is obtained simply by adding algebraically q1 and q2 , i.e., charges add up like real numbers or they are scalars like the mass of a body. If a system contains n charges q1, q2,q3,...,qn,thenthetotalchargeofthesystemisq1 +q2 +q3 +...+qn . Charge has magnitude but no direction, similar to mass. However, there is one difference between mass and charge. Mass of a body is always positive whereas a charge can be either positive or negative. Proper signs have to be used while adding the charges in a system. For example, the total charge of a system containing five charges +1, +2, –3, +4 and –5, in some arbitrary unit, is (+1) + (+2) + (–3) + (+4) + (–5) = –1 in the same unit.'}, {'SUBSECTION_TITLE': '1.4.2 Charge is conserved', 'SUBSECTION_CONTENT': 'We have already hinted to the fact that when bodies are charged by rubbing, there is transfer of electrons from one body to the other; no new charges are either created or destroyed. A picture of particles of electric charge enables us to understand the idea of conservation of charge. When we rub two bodies, what one body gains in charge the other body loses. Within an isolated system consisting of many charged bodies, due to interactions among the bodies, charges may get redistributed but it is found that the total charge of the isolated system is always conserved. Conservation of charge has been established experimentally.'}]}\n",
      "SUBSECTION_TITLE\n",
      "SUBSECTION_CONTENT\n",
      "MERGE (node:SUBSECTION{SUBSECTION_TITLE:'1.4.1 Additivity of charges',SUBSECTION_CONTENT:'We have not as yet given a quantitative definition of a charge; we shall follow it up in the next section. We shall tentatively assume that this can be done and proceed. If a system contains two point charges q1 and q2, the total charge of the system is obtained simply by adding algebraically q1 and q2 , i.e., charges add up like real numbers or they are scalars like the mass of a body. If a system contains n charges q1, q2,q3,...,qn,thenthetotalchargeofthesystemisq1 +q2 +q3 +...+qn . Charge has magnitude but no direction, similar to mass. However, there is one difference between mass and charge. Mass of a body is always positive whereas a charge can be either positive or negative. Proper signs have to be used while adding the charges in a system. For example, the total charge of a system containing five charges +1, +2, –3, +4 and –5, in some arbitrary unit, is (+1) + (+2) + (–3) + (+4) + (–5) = –1 in the same unit.' } )\n",
      "parent node is ('SECTION', {'SECTION_TITLE': '1.4 BASIC PROPERTIES OF ELECTRIC CHARGE', 'SECTION_CONTENT': 'We have seen that there are two types of charges, namely positive and negative and their effects tend to cancel each other. Here, we shall now describe some other properties of the electric charge. If the sizes of charged bodies are very small as compared to the distances between them, we treat them as point charges. All the charge content of the body is assumed to be concentrated at one point in space.'})\n",
      "Initializing Neo4j connection...\n",
      "Loading Neo4j credentials...\n",
      "✓ Credentials loaded successfully\n",
      "✓ Neo4j connection established\n",
      "Relationship Triplets (Parent, Child, Relation):\n",
      "SECTION -> CONTAINS -> SUBSECTION\n",
      "SECTION -> HAS -> EXAMPLE\n",
      "MATCH (p:SECTION { SECTION_TITLE:'1.4 BASIC PROPERTIES OF ELECTRIC CHARGE',SECTION_CONTENT:'We have seen that there are two types of charges, namely positive and negative and their effects tend to cancel each other. Here, we shall now describe some other properties of the electric charge. If the sizes of charged bodies are very small as compared to the distances between them, we treat them as point charges. All the charge content of the body is assumed to be concentrated at one point in space.'}), (c:SUBSECTION { SUBSECTION_TITLE:'1.4.1 Additivity of charges',SUBSECTION_CONTENT:'We have not as yet given a quantitative definition of a charge; we shall follow it up in the next section. We shall tentatively assume that this can be done and proceed. If a system contains two point charges q1 and q2, the total charge of the system is obtained simply by adding algebraically q1 and q2 , i.e., charges add up like real numbers or they are scalars like the mass of a body. If a system contains n charges q1, q2,q3,...,qn,thenthetotalchargeofthesystemisq1 +q2 +q3 +...+qn . Charge has magnitude but no direction, similar to mass. However, there is one difference between mass and charge. Mass of a body is always positive whereas a charge can be either positive or negative. Proper signs have to be used while adding the charges in a system. For example, the total charge of a system containing five charges +1, +2, –3, +4 and –5, in some arbitrary unit, is (+1) + (+2) + (–3) + (+4) + (–5) = –1 in the same unit.'}) WITH p,c MERGE (p)-[:CONTAINS]->(c)\n",
      "Initializing Neo4j connection...\n",
      "Loading Neo4j credentials...\n",
      "✓ Credentials loaded successfully\n",
      "✓ Neo4j connection established\n",
      "SUBSECTION_TITLE\n",
      "SUBSECTION_CONTENT\n",
      "MERGE (node:SUBSECTION{SUBSECTION_TITLE:'1.4.2 Charge is conserved',SUBSECTION_CONTENT:'We have already hinted to the fact that when bodies are charged by rubbing, there is transfer of electrons from one body to the other; no new charges are either created or destroyed. A picture of particles of electric charge enables us to understand the idea of conservation of charge. When we rub two bodies, what one body gains in charge the other body loses. Within an isolated system consisting of many charged bodies, due to interactions among the bodies, charges may get redistributed but it is found that the total charge of the isolated system is always conserved. Conservation of charge has been established experimentally.' } )\n",
      "parent node is ('SECTION', {'SECTION_TITLE': '1.4 BASIC PROPERTIES OF ELECTRIC CHARGE', 'SECTION_CONTENT': 'We have seen that there are two types of charges, namely positive and negative and their effects tend to cancel each other. Here, we shall now describe some other properties of the electric charge. If the sizes of charged bodies are very small as compared to the distances between them, we treat them as point charges. All the charge content of the body is assumed to be concentrated at one point in space.'})\n",
      "Initializing Neo4j connection...\n",
      "Loading Neo4j credentials...\n",
      "✓ Credentials loaded successfully\n",
      "✓ Neo4j connection established\n",
      "Relationship Triplets (Parent, Child, Relation):\n",
      "SECTION -> CONTAINS -> SUBSECTION\n",
      "SECTION -> HAS -> EXAMPLE\n",
      "MATCH (p:SECTION { SECTION_TITLE:'1.4 BASIC PROPERTIES OF ELECTRIC CHARGE',SECTION_CONTENT:'We have seen that there are two types of charges, namely positive and negative and their effects tend to cancel each other. Here, we shall now describe some other properties of the electric charge. If the sizes of charged bodies are very small as compared to the distances between them, we treat them as point charges. All the charge content of the body is assumed to be concentrated at one point in space.'}), (c:SUBSECTION { SUBSECTION_TITLE:'1.4.2 Charge is conserved',SUBSECTION_CONTENT:'We have already hinted to the fact that when bodies are charged by rubbing, there is transfer of electrons from one body to the other; no new charges are either created or destroyed. A picture of particles of electric charge enables us to understand the idea of conservation of charge. When we rub two bodies, what one body gains in charge the other body loses. Within an isolated system consisting of many charged bodies, due to interactions among the bodies, charges may get redistributed but it is found that the total charge of the isolated system is always conserved. Conservation of charge has been established experimentally.'}) WITH p,c MERGE (p)-[:CONTAINS]->(c)\n",
      "Initializing Neo4j connection...\n",
      "Loading Neo4j credentials...\n",
      "✓ Credentials loaded successfully\n",
      "✓ Neo4j connection established\n",
      "child in includes list:{'EXAMPLE': {'EXAMPLE_TITLE': 'Example of Additivity of Charges', 'EXAMPLE_CONTENT': 'For example, the total charge of a system containing five charges +1, +2, –3, +4 and –5, in some arbitrary unit, is (+1) + (+2) + (–3) + (+4) + (–5) = –1 in the same unit.'}}\n",
      "EXAMPLE_TITLE\n",
      "EXAMPLE_CONTENT\n",
      "MERGE (node:EXAMPLE{EXAMPLE_TITLE:'Example of Additivity of Charges',EXAMPLE_CONTENT:'For example, the total charge of a system containing five charges +1, +2, –3, +4 and –5, in some arbitrary unit, is (+1) + (+2) + (–3) + (+4) + (–5) = –1 in the same unit.' } )\n",
      "parent node is ('SECTION', {'SECTION_TITLE': '1.4 BASIC PROPERTIES OF ELECTRIC CHARGE', 'SECTION_CONTENT': 'We have seen that there are two types of charges, namely positive and negative and their effects tend to cancel each other. Here, we shall now describe some other properties of the electric charge. If the sizes of charged bodies are very small as compared to the distances between them, we treat them as point charges. All the charge content of the body is assumed to be concentrated at one point in space.'})\n",
      "Initializing Neo4j connection...\n",
      "Loading Neo4j credentials...\n",
      "✓ Credentials loaded successfully\n",
      "✓ Neo4j connection established\n",
      "Relationship Triplets (Parent, Child, Relation):\n",
      "SECTION -> CONTAINS -> SUBSECTION\n",
      "SECTION -> HAS -> EXAMPLE\n",
      "MATCH (p:SECTION { SECTION_TITLE:'1.4 BASIC PROPERTIES OF ELECTRIC CHARGE',SECTION_CONTENT:'We have seen that there are two types of charges, namely positive and negative and their effects tend to cancel each other. Here, we shall now describe some other properties of the electric charge. If the sizes of charged bodies are very small as compared to the distances between them, we treat them as point charges. All the charge content of the body is assumed to be concentrated at one point in space.'}), (c:EXAMPLE { EXAMPLE_TITLE:'Example of Additivity of Charges',EXAMPLE_CONTENT:'For example, the total charge of a system containing five charges +1, +2, –3, +4 and –5, in some arbitrary unit, is (+1) + (+2) + (–3) + (+4) + (–5) = –1 in the same unit.'}) WITH p,c MERGE (p)-[:HAS]->(c)\n",
      "Initializing Neo4j connection...\n",
      "Loading Neo4j credentials...\n",
      "✓ Credentials loaded successfully\n",
      "✓ Neo4j connection established\n"
     ]
    }
   ],
   "source": [
    "def get_relation_from_triplets(parent,child):\n",
    "    rel = None\n",
    "    triplets = extract_triplets('test.yaml')\n",
    "    for triplet in triplets:\n",
    "        if triplet[0]==parent and triplet[1]==child:\n",
    "            rel = triplet[2] \n",
    "    return rel    \n",
    "\n",
    "def convert_dict_to_str(node_dict):\n",
    "    props_list = []\n",
    "    for k,v in node_dict.items():\n",
    "        \n",
    "            props = f\"{k}:'{v}'\"\n",
    "            props_list.append(props)\n",
    "            \n",
    "    attrs = ','.join(props_list)\n",
    "    return attrs\n",
    "\n",
    "\n",
    "def buildKG(node_key,node_values,parent=None):\n",
    "    \n",
    "    \n",
    "    node_props = {}\n",
    "    query = f\"MERGE (node:{node_key}\"\n",
    "    props_list = []\n",
    "    \n",
    "    for k,v in node_values.items():\n",
    "        if  k != 'includes':\n",
    "            print(k)\n",
    "            node_props[k]=v\n",
    "            props = f\"{k}:'{v}'\"\n",
    "            props_list.append(props)\n",
    "            \n",
    "    attrs = ','.join(props_list)\n",
    "    query_with_attrs = query + f\"{{{attrs} }} )\"\n",
    "    print(query_with_attrs)        \n",
    "    print(f\"parent node is {parent}\")\n",
    "    execute_query(query_with_attrs)\n",
    "    \n",
    "    if parent:\n",
    "        query_with_rel = f\"MATCH (p:{parent[0]} {{ {convert_dict_to_str(parent[1])}}}), (c:{node_key} {{ {convert_dict_to_str(node_props)}}}) WITH p,c MERGE (p)-[:{get_relation_from_triplets(parent[0],node_key)}]->(c)\"\n",
    "        print(query_with_rel)\n",
    "        execute_query(query_with_rel)\n",
    "    \n",
    "    \n",
    "    \n",
    "    for k,v in node_values.items():\n",
    "        if  k == 'includes':\n",
    "            \n",
    "            parent_node = (node_key,node_props)\n",
    "            for child in v: #items in 'includes' list\n",
    "                print(f\"child in includes list:{child}\")\n",
    "                for k,v in child.items():\n",
    "                    child_nodes = child[k]\n",
    "                    if type(child_nodes) is list:\n",
    "                        for obj in child_nodes:\n",
    "                            buildKG(k,obj,parent_node)\n",
    "                    else:\n",
    "                        buildKG(k,child_nodes,parent_node)\n",
    "                            \n",
    "\n",
    "    #                 print(k,v)\n",
    "                pass\n",
    "    \n",
    "    \n",
    "root_key = list(structured_output_matching_schema.keys())[0]  \n",
    "root_values = structured_output_matching_schema[root_key]  \n",
    "buildKG(root_key,root_values)"
   ]
  },
  {
   "cell_type": "code",
   "execution_count": 195,
   "id": "1ced9f69",
   "metadata": {},
   "outputs": [
    {
     "data": {
      "text/plain": [
       "\"{'includes': [{'SUBSECTION': [{'SUBSECTION': {'SUBSECTION_TITLE': '1.4.1 Additivity of charges', 'SUBSECTION_CONTENT': 'We have not as yet given a quantitative definition of a charge; we shall follow it up in the next section. We shall tentatively assume that this can be done and proceed. If a system contains two point charges q1 and q2, the total charge of the system is obtained simply by adding algebraically q1 and q2 , i.e., charges add up like real numbers or they are scalars like the mass of a body. If a system contains n charges q1, q2,q3,...,qn,thenthetotalchargeofthesystemisq1 +q2 +q3 +...+qn . Charge has magnitude but no direction, similar to mass. However, there is one difference between mass and charge. Mass of a body is always positive whereas a charge can be either positive or negative. Proper signs have to be used while adding the charges in a system. For example, the total charge of a system containing five charges +1, +2, –3, +4 and –5, in some arbitrary unit, is (+1) + (+2) + (–3) + (+4) + (–5) = –1 in the same unit.'}}, {'SUBSECTION': {'SUBSECTION_TITLE': '1.4.2 Charge is conserved', 'SUBSECTION_CONTENT': 'We have already hinted to the fact that when bodies are charged by rubbing, there is transfer of electrons from one body to the other; no new charges are either created or destroyed. A picture of particles of electric charge enables us to understand the idea of conservation of charge. When we rub two bodies, what one body gains in charge the other body loses. Within an isolated system consisting of many charged bodies, due to interactions among the bodies, charges may get redistributed but it is found that the total charge of the isolated system is always conserved. Conservation of charge has been established experimentally.'}}]}, {'EXAMPLE': {'EXAMPLE_TITLE': 'Example of Additivity of Charges', 'EXAMPLE_CONTENT': 'For example, the total charge of a system containing five charges +1, +2, –3, +4 and –5, in some arbitrary unit, is (+1) + (+2) + (–3) + (+4) + (–5) = –1 in the same unit.'}}], 'SECTION_TITLE': '1.4 BASIC PROPERTIES OF ELECTRIC CHARGE', 'SECTION_CONTENT': 'We have seen that there are two types of charges, namely positive and negative and their effects tend to cancel each other. Here, we shall now describe some other properties of the electric charge. If the sizes of charged bodies are very small as compared to the distances between them, we treat them as point charges. All the charge content of the body is assumed to be concentrated at one point in space.'}\""
      ]
     },
     "execution_count": 195,
     "metadata": {},
     "output_type": "execute_result"
    }
   ],
   "source": []
  },
  {
   "cell_type": "code",
   "execution_count": null,
   "id": "345b6416",
   "metadata": {},
   "outputs": [],
   "source": []
  }
 ],
 "metadata": {
  "kernelspec": {
   "display_name": "Python [conda env:zg]",
   "language": "python",
   "name": "conda-env-zg-py"
  },
  "language_info": {
   "codemirror_mode": {
    "name": "ipython",
    "version": 3
   },
   "file_extension": ".py",
   "mimetype": "text/x-python",
   "name": "python",
   "nbconvert_exporter": "python",
   "pygments_lexer": "ipython3",
   "version": "3.9.19"
  }
 },
 "nbformat": 4,
 "nbformat_minor": 5
}
