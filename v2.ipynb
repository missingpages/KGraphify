{
 "cells": [
  {
   "cell_type": "code",
   "execution_count": 7,
   "id": "76f71174",
   "metadata": {},
   "outputs": [],
   "source": [
    "import google.generativeai as genai\n",
    "import os\n",
    "import fitz\n",
    "from langchain_core.output_parsers import JsonOutputParser\n",
    "from openai import OpenAI\n",
    "client = OpenAI()\n",
    "from typing import Optional\n",
    "import yaml\n",
    "import sys\n",
    "from pydantic import BaseModel,Field,create_model \n",
    "from langchain_openai import ChatOpenAI\n",
    "import json\n",
    "from db import *\n",
    "from langchain_community.document_loaders import PyPDFLoader"
   ]
  },
  {
   "cell_type": "code",
   "execution_count": 2,
   "id": "9e979168",
   "metadata": {},
   "outputs": [],
   "source": [
    "# from langchain_core.pydantic_v1 import BaseModel, Field \n",
    "from typing import Optional\n",
    "from typing import Union\n",
    "\n",
    "# class CHAPTER(BaseModel):\n",
    "#     chapter_name:str = Field(description = \"name of the chapter\")\n",
    "        \n",
    "# class SECTION_NAME(BaseModel):\n",
    "#     section_name:str = Field(description=\"Name of the section\")\n",
    "        \n",
    "# class SECTION(BaseModel):\n",
    "#     section_name:SECTION_NAME = Field(description = \"name of the section\")\n",
    "#     section_content:str = Field(description = \"content of the section\")\n",
    "        \n",
    "# class SUBSECTION(BaseModel):\n",
    "#     subsection_name:str = Field(description = \"name of the sub-section within the section\")\n",
    "#     subsection_content:str = Field(description = \"content of the sub-section within the section\")\n",
    "        \n",
    "        \n",
    "# class sec_subsec_rel(BaseModel):\n",
    "#     from_entity:SECTION_NAME = Field(description = \"SECTION details extracted from the content\")\n",
    "#     to_entity:SUBSECTION = Field(description = \"SUBSECTION details extracted from the content\")\n",
    "        \n",
    "# class chapter_sec_rel(BaseModel):\n",
    "#     from_entity:CHAPTER = Field(description = \"CHAPTER details extracted from the content\")\n",
    "#     to_entity:SECTION = Field(description = \"SECTION details extracted from the content\")\n",
    "\n",
    "# class Graph(BaseModel):\n",
    "#     all_relationships:list[Union[sec_subsec_rel,chapter_sec_rel]] = Field(\"all required relationships between nodes extracted from the data\")\n",
    "\n",
    "\n",
    "\n",
    "\n",
    "   \n"
   ]
  },
  {
   "cell_type": "code",
   "execution_count": 3,
   "id": "9ad6f859",
   "metadata": {},
   "outputs": [],
   "source": [
    "\n",
    "def load_schema(yaml_file):\n",
    "    with open(yaml_file, 'r') as file:\n",
    "        yaml_data = yaml.safe_load(file)\n",
    "    return yaml_data\n",
    "        \n",
    "schema = load_schema('config/schema.yml')"
   ]
  },
  {
   "cell_type": "code",
   "execution_count": 4,
   "id": "20f7eb99",
   "metadata": {},
   "outputs": [
    {
     "name": "stdout",
     "output_type": "stream",
     "text": [
      "{'graph': {'ENTITIES': [{'name': 'CHAPTER', 'description': 'A chapter of a book describing a broader topic', 'properties': [{'name': 'CHAPTER_TITLE', 'description': 'The title of the section', 'type': 'str', 'isPKEY': True}, {'name': 'CHAPTER_NO', 'description': 'The chapter no of the chapter', 'type': 'str'}]}, {'name': 'SECTION', 'description': 'A section of a book describing a broader topic', 'properties': [{'name': 'SECTION_TITLE', 'description': 'The title of the section', 'type': 'str', 'isPKEY': True}, {'name': 'SECTION_CONTENT', 'description': 'The content of the section', 'type': 'str'}]}, {'name': 'SUBSECTION', 'description': 'The list of subsections present in the section', 'properties': [{'name': 'SUBSECTION_TITLE', 'description': 'The title of the subsection', 'type': 'str', 'isPKEY': True}, {'name': 'SUBSECTION_CONTENT', 'description': 'The content of the subsection', 'type': 'str'}]}], 'RELATIONS': [{'name': 'chapter_sec_rel', 'properties': {'from': 'CHAPTER', 'to': 'SECTION', 'relation': 'includes'}}, {'name': 'sec_subsec_rel', 'properties': {'from': 'SECTION', 'to': 'SUBSECTION', 'relation': 'contains'}}]}}\n"
     ]
    }
   ],
   "source": [
    "print(schema)"
   ]
  },
  {
   "cell_type": "code",
   "execution_count": 8,
   "id": "85bb9dd1",
   "metadata": {},
   "outputs": [
    {
     "name": "stdout",
     "output_type": "stream",
     "text": [
      "44\n"
     ]
    }
   ],
   "source": [
    "\n",
    "def read_content_from_pdf(pdf_file_path):\n",
    "#     pdf_file_path = \"data/leph101.pdf\"\n",
    "    loader = PyPDFLoader(pdf_file_path)\n",
    "    docs = loader.load()\n",
    "    print(len(docs))\n",
    "    content = ''\n",
    "    for doc in docs:\n",
    "        content += doc.page_content[0:]\n",
    "    return content\n",
    "\n",
    "content = read_content_from_pdf(\"data/leph101.pdf\")"
   ]
  },
  {
   "cell_type": "code",
   "execution_count": 9,
   "id": "f3fafc1d",
   "metadata": {},
   "outputs": [
    {
     "data": {
      "text/plain": [
       "[{'name': 'chapter_sec_rel',\n",
       "  'properties': {'from': 'CHAPTER', 'to': 'SECTION', 'relation': 'includes'}},\n",
       " {'name': 'sec_subsec_rel',\n",
       "  'properties': {'from': 'SECTION',\n",
       "   'to': 'SUBSECTION',\n",
       "   'relation': 'contains'}}]"
      ]
     },
     "execution_count": 9,
     "metadata": {},
     "output_type": "execute_result"
    }
   ],
   "source": [
    "def read_entities(schema):\n",
    "    entities = schema['graph']['ENTITIES']\n",
    "    return entities\n",
    "    \n",
    "def read_relations(schema):\n",
    "    if 'RELATIONS' not in schema['graph']:\n",
    "        return None\n",
    "    relations = schema['graph']['RELATIONS']\n",
    "    return relations\n",
    "\n",
    "read_entities(schema)  \n",
    "read_relations(schema)"
   ]
  },
  {
   "cell_type": "code",
   "execution_count": 10,
   "id": "4a8be0f5",
   "metadata": {},
   "outputs": [],
   "source": [
    "class ENTITY_NODE(BaseModel):\n",
    "    entity_label:str = Field(description = \"Type of entity extracted from the data For eg. PERSON,OBJECT,PLACE etc\")\n",
    "    entity_name:str = Field(description = \"Name of the entity extracted For eg. Shakespear, London etc\")   \n",
    "        \n",
    "class ENTITY(BaseModel):\n",
    "    entity:ENTITY_NODE = Field(description=\"entity extracted from data\")\n",
    "              \n",
    "class RELATION(BaseModel):\n",
    "    from_entity:ENTITY_NODE = Field(description = \"Entity from which the relationship exists\")\n",
    "    to_entity:ENTITY_NODE = Field(description = \"Entity to which the relationship points to\")\n",
    "    relation_type:str = Field(description=\"Relation between from and to enitites.For eg: HAS,INCLUDES, OWNS, VISITS etc\")\n",
    "                                                             \n",
    "class FREE_FLOW_GRAPH(BaseModel):\n",
    "    entities:list[ENTITY] = Field(description=\"List of all entities extracted from data\")\n",
    "    relations:list[RELATION] = Field(description=\"Captures all relationships between all entities captured from data\")\n",
    "    \n",
    "def create_freeflow_graph_model():\n",
    "    return FREE_FLOW_GRAPH\n",
    "\n",
    "def create_entity_class(all_defined_entities:dict):\n",
    "    ENTITY_CLASS_FIELDS = {}   \n",
    "    lst = [entity for entity in list(all_defined_entities.values())]\n",
    "    ENTITY_CLASS_FIELDS['entity'] = (Union[tuple(lst)],Field(description=\"entity extracted from data\"))\n",
    "    ENTITY_CLASS = create_model(\n",
    "                'ENTITY', **ENTITY_CLASS_FIELDS\n",
    "            )\n",
    "    return ENTITY_CLASS\n",
    "\n",
    "def str_to_class(datatype):\n",
    "    return getattr(sys.modules[__name__], datatype)\n",
    "\n",
    "\n",
    "def create_relation_class(all_defined_relations):\n",
    "    REL_CLASS_FIELDS = {}\n",
    "    REL_CLASS_FIELDS['from_entity'] = (ENTITY,Field(description = \"Entity from which the relationship exists\"))\n",
    "    REL_CLASS_FIELDS['to_entity'] = (ENTITY, Field(description = \"Entity to which the relationship points to\"))\n",
    "    REL_CLASS_FIELDS['relation_type'] = (str,Field(description = \"Relation between from and to enitites.For eg: HAS,INCLUDES, OWNS, VISITS etc\"))\n",
    "    RELATION_CLASS = create_model('RELATION' , **REL_CLASS_FIELDS)\n",
    "    return RELATION_CLASS\n",
    "    \n",
    "def create_dyn_model_with_entities(entities,relations=None):\n",
    "    all_defined_entities = {}\n",
    "    for entity in entities:\n",
    "        properties = entity['properties']\n",
    "        fields = {}\n",
    "        for prop in properties:\n",
    "            fields[prop['name']] = (eval(prop['type']), Field(description=prop['description']))\n",
    "        fields['entity_label'] = (str, entity['name'])\n",
    "        print(f\"creating model for {entity}\")    \n",
    "        entity_class = create_model(\n",
    "                entity['name'], **fields\n",
    "            )# creates individual defined entities\n",
    "        all_defined_entities[entity['name']] = entity_class\n",
    "        \n",
    "    \n",
    "    ENTITY_CLASS = create_entity_class(all_defined_entities)\n",
    "    \n",
    "    if relations is None:\n",
    "        RELATION_CLASS = create_relation_class(all_defined_relations)\n",
    "    else:\n",
    "        all_defined_relations= {}\n",
    "        for rel in relations:\n",
    "            properties = rel['properties']\n",
    "            print(properties)\n",
    "            fields = {}\n",
    "            if not properties['from'] in all_defined_entities.keys() or not properties['to'] in all_defined_entities.keys():\n",
    "                print(\"entities not present!\")\n",
    "                return None\n",
    "\n",
    "            fields['from_entity'] = (all_defined_entities[properties['from']],Field(description = \"Entity from which the relationship exists\"))\n",
    "            fields['to_entity'] = (all_defined_entities[properties['to']],Field(description = \"Entity to which the relationship exists\"))\n",
    "            fields['relation_type'] = (str,Field(description=\"Relation between from and to enitites.For eg: HAS,INCLUDES, OWNS, VISITS etc\"))\n",
    "            relation_class = create_model(rel['name'],**fields) \n",
    "            all_defined_relations[rel['name']] = relation_class\n",
    "            \n",
    "        RELATION_CLASS = Union[tuple([r for r in all_defined_relations.values()])]\n",
    "    \n",
    "    print(ENTITY_CLASS.model_json_schema())\n",
    "    graph_fields = {}\n",
    "    graph_fields['entities'] = (list[ENTITY_CLASS],Field(description=\"List of all entities extracted from data\"))\n",
    "    graph_fields['relations'] = (list[RELATION_CLASS],Field(description=\"Captures all relationships between all entities captured from data\"))\n",
    "    GRAPH_CLASS =  create_model('GRAPH' , **graph_fields)   \n",
    "#     GRAPH_CLASS.model_rebuild()\n",
    "    return GRAPH_CLASS\n",
    "   \n",
    "    \n",
    "    \n",
    "    \n",
    "     \n",
    "    \n",
    "    \n",
    "def create_structured_output_model(entities,relations):\n",
    "    if entities is None and relations is None:\n",
    "        structured_model = create_freeflow_graph_model()\n",
    "    else:\n",
    "        structured_model = create_dyn_model_with_entities(entities,relations)\n",
    "    return structured_model\n",
    "    "
   ]
  },
  {
   "cell_type": "code",
   "execution_count": 11,
   "id": "c8ba268a",
   "metadata": {},
   "outputs": [
    {
     "data": {
      "text/plain": [
       "[{'name': 'CHAPTER',\n",
       "  'description': 'A chapter of a book describing a broader topic',\n",
       "  'properties': [{'name': 'CHAPTER_TITLE',\n",
       "    'description': 'The title of the section',\n",
       "    'type': 'str',\n",
       "    'isPKEY': True},\n",
       "   {'name': 'CHAPTER_NO',\n",
       "    'description': 'The chapter no of the chapter',\n",
       "    'type': 'str'}]},\n",
       " {'name': 'SECTION',\n",
       "  'description': 'A section of a book describing a broader topic',\n",
       "  'properties': [{'name': 'SECTION_TITLE',\n",
       "    'description': 'The title of the section',\n",
       "    'type': 'str',\n",
       "    'isPKEY': True},\n",
       "   {'name': 'SECTION_CONTENT',\n",
       "    'description': 'The content of the section',\n",
       "    'type': 'str'}]},\n",
       " {'name': 'SUBSECTION',\n",
       "  'description': 'The list of subsections present in the section',\n",
       "  'properties': [{'name': 'SUBSECTION_TITLE',\n",
       "    'description': 'The title of the subsection',\n",
       "    'type': 'str',\n",
       "    'isPKEY': True},\n",
       "   {'name': 'SUBSECTION_CONTENT',\n",
       "    'description': 'The content of the subsection',\n",
       "    'type': 'str'}]}]"
      ]
     },
     "execution_count": 11,
     "metadata": {},
     "output_type": "execute_result"
    }
   ],
   "source": [
    "read_entities(schema)"
   ]
  },
  {
   "cell_type": "code",
   "execution_count": 17,
   "id": "ad41a227",
   "metadata": {},
   "outputs": [
    {
     "name": "stdout",
     "output_type": "stream",
     "text": [
      "creating model for {'name': 'CHAPTER', 'description': 'A chapter of a book describing a broader topic', 'properties': [{'name': 'CHAPTER_TITLE', 'description': 'The title of the section', 'type': 'str', 'isPKEY': True}, {'name': 'CHAPTER_NO', 'description': 'The chapter no of the chapter', 'type': 'str'}]}\n",
      "creating model for {'name': 'SECTION', 'description': 'A section of a book describing a broader topic', 'properties': [{'name': 'SECTION_TITLE', 'description': 'The title of the section', 'type': 'str', 'isPKEY': True}, {'name': 'SECTION_CONTENT', 'description': 'The content of the section', 'type': 'str'}]}\n",
      "creating model for {'name': 'SUBSECTION', 'description': 'The list of subsections present in the section', 'properties': [{'name': 'SUBSECTION_TITLE', 'description': 'The title of the subsection', 'type': 'str', 'isPKEY': True}, {'name': 'SUBSECTION_CONTENT', 'description': 'The content of the subsection', 'type': 'str'}]}\n",
      "{'from': 'CHAPTER', 'to': 'SECTION', 'relation': 'includes'}\n",
      "{'from': 'SECTION', 'to': 'SUBSECTION', 'relation': 'contains'}\n",
      "{'$defs': {'CHAPTER': {'properties': {'CHAPTER_TITLE': {'description': 'The title of the section', 'title': 'Chapter Title', 'type': 'string'}, 'CHAPTER_NO': {'description': 'The chapter no of the chapter', 'title': 'Chapter No', 'type': 'string'}, 'entity_label': {'default': 'CHAPTER', 'title': 'Entity Label', 'type': 'string'}}, 'required': ['CHAPTER_TITLE', 'CHAPTER_NO'], 'title': 'CHAPTER', 'type': 'object'}, 'SECTION': {'properties': {'SECTION_TITLE': {'description': 'The title of the section', 'title': 'Section Title', 'type': 'string'}, 'SECTION_CONTENT': {'description': 'The content of the section', 'title': 'Section Content', 'type': 'string'}, 'entity_label': {'default': 'SECTION', 'title': 'Entity Label', 'type': 'string'}}, 'required': ['SECTION_TITLE', 'SECTION_CONTENT'], 'title': 'SECTION', 'type': 'object'}, 'SUBSECTION': {'properties': {'SUBSECTION_TITLE': {'description': 'The title of the subsection', 'title': 'Subsection Title', 'type': 'string'}, 'SUBSECTION_CONTENT': {'description': 'The content of the subsection', 'title': 'Subsection Content', 'type': 'string'}, 'entity_label': {'default': 'SUBSECTION', 'title': 'Entity Label', 'type': 'string'}}, 'required': ['SUBSECTION_TITLE', 'SUBSECTION_CONTENT'], 'title': 'SUBSECTION', 'type': 'object'}}, 'properties': {'entity': {'anyOf': [{'$ref': '#/$defs/CHAPTER'}, {'$ref': '#/$defs/SECTION'}, {'$ref': '#/$defs/SUBSECTION'}], 'description': 'entity extracted from data', 'title': 'Entity'}}, 'required': ['entity'], 'title': 'ENTITY', 'type': 'object'}\n"
     ]
    },
    {
     "data": {
      "text/plain": [
       "__main__.GRAPH"
      ]
     },
     "execution_count": 17,
     "metadata": {},
     "output_type": "execute_result"
    }
   ],
   "source": [
    "structured_model = create_structured_output_model(read_entities(schema),read_relations(schema))\n",
    "# structured_model = create_structured_output_model(None,None)\n",
    "structured_model"
   ]
  },
  {
   "cell_type": "code",
   "execution_count": 13,
   "id": "dd56737b",
   "metadata": {},
   "outputs": [],
   "source": [
    "def extract_structured_output(structured_output_model,content):\n",
    "    prompt = f\"\"\"\n",
    "              you are a helpful assistant good at extracting the contents discussed in the topic in a structured way.\n",
    "              \n",
    "              \n",
    "              topic: {content}\n",
    "              \"\"\"\n",
    "    model = ChatOpenAI(model=\"gpt-4o\", temperature=0)\n",
    "    structured_llm = model.with_structured_output(structured_output_model)\n",
    "#     structured_llm = model.with_structured_output(Graph)\n",
    "    response = structured_llm.invoke(prompt)\n",
    "    return response"
   ]
  },
  {
   "cell_type": "code",
   "execution_count": null,
   "id": "a6b84f3d",
   "metadata": {},
   "outputs": [],
   "source": [
    "section_content = \"\"\"Chapter 1- Basic physics concepts\n",
    "1.4 BASIC PROPERTIES OF ELECTRIC CHARGE\n",
    "We have seen that there are two types of charges, namely positive and negative and their effects tend to cancel each other. Here, we shall now describe some other properties of the electric charge.\n",
    "If the sizes of charged bodies are very small as compared to the distances between them, we treat them as point charges. All the charge content of the body is assumed to be concentrated at one point in space.\n",
    "1.4.1 Additivity of charges\n",
    "We have not as yet given a quantitative definition of a charge; we shall follow it up in the next section. We shall tentatively assume that this can be done and proceed. If a system contains two point charges q1 and q2, the total charge of the system is obtained simply by adding\n",
    "4\n",
    "algebraically q1 and q2 , i.e., charges add up like real numbers or they are scalars like the mass of a body. If a system contains n charges q1, q2,q3,...,qn,thenthetotalchargeofthesystemisq1 +q2 +q3 +...+qn . Charge has magnitude but no direction, similar to mass. However, there is one difference between mass and charge. Mass of a body is always positive whereas a charge can be either positive or negative. Proper signs have to be used while adding the charges in a system. For example, the total charge of a system containing five charges +1, +2, –3, +4 and –5, in some arbitrary unit, is (+1) + (+2) + (–3) + (+4) + (–5) = –1 in the same unit.\n",
    "1.4.2 Charge is conserved\n",
    "We have already hinted to the fact that when bodies are charged by rubbing, there is transfer of electrons from one body to the other; no new charges are either created or destroyed. A picture of particles of electric charge enables us to understand the idea of conservation of charge. When we rub two bodies, what one body gains in charge the other body loses. Within an isolated system consisting of many charged bodies, due to interactions among the bodies, charges may get redistributed but it is found that the total charge of the isolated system is always conserved. Conservation of charge has been established experimentally.\"\"\"\n",
    "# graph = extract_structured_output(section_content)\n",
    "# graph = extract_structured_output(structured_model,section_content)\n",
    "graph = extract_structured_output(structured_model,content)\n",
    "graph = json.loads(graph.model_dump_json())\n",
    "graph"
   ]
  },
  {
   "cell_type": "markdown",
   "id": "88ff36d5",
   "metadata": {},
   "source": [
    "### Graph builder"
   ]
  },
  {
   "cell_type": "code",
   "execution_count": 15,
   "id": "81abe876",
   "metadata": {},
   "outputs": [
    {
     "data": {
      "text/plain": [
       "[{'entity': {'entity_label': 'CONCEPT', 'entity_name': 'Electric Charge'}},\n",
       " {'entity': {'entity_label': 'PROPERTY',\n",
       "   'entity_name': 'Additivity of Charges'}},\n",
       " {'entity': {'entity_label': 'PROPERTY',\n",
       "   'entity_name': 'Conservation of Charge'}},\n",
       " {'entity': {'entity_label': 'OBJECT', 'entity_name': 'Point Charges'}},\n",
       " {'entity': {'entity_label': 'OBJECT', 'entity_name': 'Charged Bodies'}},\n",
       " {'entity': {'entity_label': 'OBJECT', 'entity_name': 'Electrons'}},\n",
       " {'entity': {'entity_label': 'OBJECT', 'entity_name': 'System of Charges'}}]"
      ]
     },
     "execution_count": 15,
     "metadata": {},
     "output_type": "execute_result"
    }
   ],
   "source": [
    "entity_nodes = graph['entities'] \n",
    "rel_nodes = graph['relations']\n",
    "entity_nodes"
   ]
  },
  {
   "cell_type": "code",
   "execution_count": 16,
   "id": "fcaccfcc",
   "metadata": {},
   "outputs": [
    {
     "name": "stdout",
     "output_type": "stream",
     "text": [
      "CONCEPT\n",
      " MERGE (n:CONCEPT {entity_label:'CONCEPT',entity_name:'Electric Charge'}) RETURN n\n",
      "Initializing Neo4j connection...\n",
      "Loading Neo4j credentials...\n",
      "✓ Credentials loaded successfully\n",
      "✓ Neo4j connection established\n",
      "PROPERTY\n",
      " MERGE (n:PROPERTY {entity_label:'PROPERTY',entity_name:'Additivity of Charges'}) RETURN n\n",
      "Initializing Neo4j connection...\n",
      "Loading Neo4j credentials...\n",
      "✓ Credentials loaded successfully\n",
      "✓ Neo4j connection established\n",
      "PROPERTY\n",
      " MERGE (n:PROPERTY {entity_label:'PROPERTY',entity_name:'Conservation of Charge'}) RETURN n\n",
      "Initializing Neo4j connection...\n",
      "Loading Neo4j credentials...\n",
      "✓ Credentials loaded successfully\n",
      "✓ Neo4j connection established\n",
      "OBJECT\n",
      " MERGE (n:OBJECT {entity_label:'OBJECT',entity_name:'Point Charges'}) RETURN n\n",
      "Initializing Neo4j connection...\n",
      "Loading Neo4j credentials...\n",
      "✓ Credentials loaded successfully\n",
      "✓ Neo4j connection established\n",
      "OBJECT\n",
      " MERGE (n:OBJECT {entity_label:'OBJECT',entity_name:'Charged Bodies'}) RETURN n\n",
      "Initializing Neo4j connection...\n",
      "Loading Neo4j credentials...\n",
      "✓ Credentials loaded successfully\n",
      "✓ Neo4j connection established\n",
      "OBJECT\n",
      " MERGE (n:OBJECT {entity_label:'OBJECT',entity_name:'Electrons'}) RETURN n\n",
      "Initializing Neo4j connection...\n",
      "Loading Neo4j credentials...\n",
      "✓ Credentials loaded successfully\n",
      "✓ Neo4j connection established\n",
      "OBJECT\n",
      " MERGE (n:OBJECT {entity_label:'OBJECT',entity_name:'System of Charges'}) RETURN n\n",
      "Initializing Neo4j connection...\n",
      "Loading Neo4j credentials...\n",
      "✓ Credentials loaded successfully\n",
      "✓ Neo4j connection established\n"
     ]
    }
   ],
   "source": [
    "def convert_dict_to_str(node_dict):\n",
    "    props_list = []\n",
    "    for k,v in node_dict.items():\n",
    "            v = v.replace(\"'\", \"`\")\n",
    "            props = f\"{k}:'{v}'\"\n",
    "            props_list.append(props)\n",
    "            \n",
    "    attrs = ','.join(props_list)\n",
    "    return attrs\n",
    "    \n",
    "\n",
    "def create_graph_nodes(entity_name, props):\n",
    "    query = f\"\"\" MERGE (n:{entity_name} {{{convert_dict_to_str(props)}}}) RETURN n\"\"\"\n",
    "    print(query)\n",
    "    execute_query(query)\n",
    "\n",
    "\n",
    "def create_nodes(entity_nodes):\n",
    "    for entity in entity_nodes:\n",
    "        node = entity['entity']\n",
    "        node_label = entity['entity']['entity_label']\n",
    "        print(node_label)\n",
    "        create_graph_nodes(node_label,node)\n",
    "        \n",
    "create_nodes(entity_nodes)"
   ]
  },
  {
   "cell_type": "code",
   "execution_count": 20,
   "id": "96bdc8f0",
   "metadata": {},
   "outputs": [
    {
     "name": "stdout",
     "output_type": "stream",
     "text": [
      "Creating relation from CONCEPT to PROPERTY as HAS\n",
      "Initializing Neo4j connection...\n",
      "Loading Neo4j credentials...\n",
      "✓ Credentials loaded successfully\n",
      "✓ Neo4j connection established\n",
      "Creating relation from CONCEPT to PROPERTY as HAS\n",
      "Initializing Neo4j connection...\n",
      "Loading Neo4j credentials...\n",
      "✓ Credentials loaded successfully\n",
      "✓ Neo4j connection established\n",
      "Creating relation from OBJECT to OBJECT as TREATED_AS\n",
      "Initializing Neo4j connection...\n",
      "Loading Neo4j credentials...\n",
      "✓ Credentials loaded successfully\n",
      "✓ Neo4j connection established\n",
      "Creating relation from OBJECT to PROPERTY as EXHIBIT\n",
      "Initializing Neo4j connection...\n",
      "Loading Neo4j credentials...\n",
      "✓ Credentials loaded successfully\n",
      "✓ Neo4j connection established\n",
      "Creating relation from OBJECT to PROPERTY as INVOLVED_IN\n",
      "Initializing Neo4j connection...\n",
      "Loading Neo4j credentials...\n",
      "✓ Credentials loaded successfully\n",
      "✓ Neo4j connection established\n",
      "Creating relation from OBJECT to PROPERTY as EXHIBIT\n",
      "Initializing Neo4j connection...\n",
      "Loading Neo4j credentials...\n",
      "✓ Credentials loaded successfully\n",
      "✓ Neo4j connection established\n",
      "Creating relation from OBJECT to PROPERTY as EXHIBIT\n",
      "Initializing Neo4j connection...\n",
      "Loading Neo4j credentials...\n",
      "✓ Credentials loaded successfully\n",
      "✓ Neo4j connection established\n"
     ]
    }
   ],
   "source": [
    "def create_graph_relations(rel):\n",
    "    from_entity_props = rel['from_entity']\n",
    "    from_node_entity = from_entity_props['entity_label']\n",
    "    \n",
    "    to_entity_props = rel['to_entity']\n",
    "    to_node_entity = to_entity_props['entity_label']\n",
    "    \n",
    "    rel_type = rel['relation_type']\n",
    "    \n",
    "    query = f\"\"\"MATCH (p:{from_node_entity}{{{convert_dict_to_str(from_entity_props)}}}), (c:{to_node_entity}{{{convert_dict_to_str(to_entity_props)}}})\n",
    "    WITH p,c\n",
    "    MERGE (p)-[:{rel_type}]->(c)\"\"\"\n",
    "    print(f\"Creating relation from {from_node_entity} to {to_node_entity} as {rel_type}\")\n",
    "    execute_query(query)\n",
    "\n",
    "def create_relations(relations):\n",
    "    for rel in relations:\n",
    "        create_graph_relations(rel)\n",
    "        \n",
    "\n",
    "create_relations(rel_nodes)"
   ]
  },
  {
   "cell_type": "code",
   "execution_count": null,
   "id": "6b2b0bd7",
   "metadata": {},
   "outputs": [],
   "source": []
  }
 ],
 "metadata": {
  "kernelspec": {
   "display_name": "Python [conda env:zg]",
   "language": "python",
   "name": "conda-env-zg-py"
  },
  "language_info": {
   "codemirror_mode": {
    "name": "ipython",
    "version": 3
   },
   "file_extension": ".py",
   "mimetype": "text/x-python",
   "name": "python",
   "nbconvert_exporter": "python",
   "pygments_lexer": "ipython3",
   "version": "3.9.19"
  }
 },
 "nbformat": 4,
 "nbformat_minor": 5
}
